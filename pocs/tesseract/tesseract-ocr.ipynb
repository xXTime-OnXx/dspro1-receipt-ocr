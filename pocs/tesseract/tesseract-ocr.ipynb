{
 "cells": [
  {
   "cell_type": "code",
   "execution_count": 1,
   "metadata": {},
   "outputs": [],
   "source": [
    "import cv2 \n",
    "import pytesseract\n",
    "import numpy as np\n",
    "import json\n",
    "\n",
    "pytesseract.pytesseract.tesseract_cmd = r'C:\\Users\\fabia\\AppData\\Local\\Programs\\Tesseract-OCR\\tesseract.exe'"
   ]
  },
  {
   "cell_type": "markdown",
   "metadata": {},
   "source": [
    "### Functions for image preprocessing"
   ]
  },
  {
   "cell_type": "code",
   "execution_count": 169,
   "metadata": {},
   "outputs": [],
   "source": [
    "# get grayscale image\n",
    "def get_grayscale(image):\n",
    "    return cv2.cvtColor(image, cv2.COLOR_BGR2GRAY)\n",
    "\n",
    "# noise removal\n",
    "def remove_noise(image):\n",
    "    return cv2.medianBlur(image,5)\n",
    " \n",
    "#thresholding\n",
    "def thresholding(image):\n",
    "    return cv2.threshold(image, 0, 255, cv2.THRESH_BINARY + cv2.THRESH_OTSU)[1]\n",
    "\n",
    "#dilation\n",
    "def dilate(image):\n",
    "    kernel = np.ones((5,5),np.uint8)\n",
    "    return cv2.dilate(image, kernel, iterations = 1)\n",
    "    \n",
    "#erosion\n",
    "def erode(image):\n",
    "    kernel = np.ones((5,5),np.uint8)\n",
    "    return cv2.erode(image, kernel, iterations = 1)\n",
    "\n",
    "#opening - erosion followed by dilation\n",
    "def opening(image):\n",
    "    kernel = np.ones((5,5),np.uint8)\n",
    "    return cv2.morphologyEx(image, cv2.MORPH_OPEN, kernel)\n",
    "\n",
    "#canny edge detection\n",
    "def canny(image):\n",
    "    return cv2.Canny(image, 100, 200)\n",
    "\n",
    "#skew correction\n",
    "def deskew(image):\n",
    "    coords = np.column_stack(np.where(image > 0))\n",
    "    angle = cv2.minAreaRect(coords)[-1]\n",
    "    if angle < -45:\n",
    "        angle = -(90 + angle)\n",
    "    else:\n",
    "        angle = -angle\n",
    "    (h, w) = image.shape[:2]\n",
    "    center = (w // 2, h // 2)\n",
    "    M = cv2.getRotationMatrix2D(center, angle, 1.0)\n",
    "    rotated = cv2.warpAffine(image, M, (w, h), flags=cv2.INTER_CUBIC, borderMode=cv2.BORDER_REPLICATE)\n",
    "    return rotated\n",
    "\n",
    "#template matching\n",
    "def match_template(image, template):\n",
    "    return cv2.matchTemplate(image, template, cv2.TM_CCOEFF_NORMED)\n",
    "\n",
    "#resizing image\n",
    "def resize(image, scale=1.5):\n",
    "    height, width = image.shape[:2]\n",
    "    new_width = int(width * scale)\n",
    "    new_height = int(height * scale)\n",
    "    resized_image = cv2.resize(image, (new_width, new_height), interpolation=cv2.INTER_LINEAR)\n",
    "    return resized_image"
   ]
  },
  {
   "cell_type": "markdown",
   "metadata": {},
   "source": [
    "# Labeling Process"
   ]
  },
  {
   "cell_type": "code",
   "execution_count": 185,
   "metadata": {},
   "outputs": [],
   "source": [
    "img = cv2.imread('../receipts/receipts-fabian/receipt68.jpg')\n",
    "\n",
    "resized = resize(img)\n",
    "gray = get_grayscale(resized)\n",
    "\n",
    "# TODO: are there more useful image preprocessing methods \n",
    "\n",
    "img = gray"
   ]
  },
  {
   "cell_type": "code",
   "execution_count": 187,
   "metadata": {},
   "outputs": [
    {
     "data": {
      "text/plain": [
       "'RISTORANTE\\nBELLAGIO (CO)\\nTELEFONO 031951888\\n\\nEY aerate Coenen eyes Sto oe\\n\\nTAV. 9 COPERTI 4\\nSALA UNICA\\n147072019 16:23\\n\\n4 COPERTO 12.00\\n2 ACQUA NAT 8.00\\n1 SALMERINO PIASTRA 18.00\\n1 TRENETTE AL PESTO 13.00\\n1 SPAGHETTI POM. BASILICO 10.00\\n1 FETTUCCINE RAGU’ 15.00\\n1—-PATATINE FRITTE 6.00\\n\\nTOKE §»— «82.0\\n\\nERE Tee oi sss\\n\\nPrego ritirare i]\\ndocumento fiscale\\nalla cassa\\n'"
      ]
     },
     "execution_count": 187,
     "metadata": {},
     "output_type": "execute_result"
    }
   ],
   "source": [
    "image_text = pytesseract.image_to_string(img, lang='eng', config='--oem 3 -c tessedit_char_blacklist=\"!@%^&*_+=<>?/{}|\\\\~`£\"')\n",
    "image_text"
   ]
  },
  {
   "cell_type": "code",
   "execution_count": 188,
   "metadata": {},
   "outputs": [
    {
     "name": "stdout",
     "output_type": "stream",
     "text": [
      "RISTORANTE\n",
      "BELLAGIO (CO)\n",
      "TELEFONO 031951888\n",
      "\n",
      "EY aerate Coenen eyes Sto oe\n",
      "\n",
      "TAV. 9 COPERTI 4\n",
      "SALA UNICA\n",
      "147072019 16:23\n",
      "\n",
      "4 COPERTO 12.00\n",
      "2 ACQUA NAT 8.00\n",
      "1 SALMERINO PIASTRA 18.00\n",
      "1 TRENETTE AL PESTO 13.00\n",
      "1 SPAGHETTI POM. BASILICO 10.00\n",
      "1 FETTUCCINE RAGU’ 15.00\n",
      "1—-PATATINE FRITTE 6.00\n",
      "\n",
      "TOKE §»— «82.0\n",
      "\n",
      "ERE Tee oi sss\n",
      "\n",
      "Prego ritirare i]\n",
      "documento fiscale\n",
      "alla cassa\n",
      "\n"
     ]
    }
   ],
   "source": [
    "print(image_text)"
   ]
  },
  {
   "cell_type": "code",
   "execution_count": 160,
   "metadata": {},
   "outputs": [
    {
     "name": "stdout",
     "output_type": "stream",
     "text": [
      "Entity: \"G] Karma Cab Sauv 12.00\" starts at: 78, ends at: 101\n",
      "Entity: \"Gl Dougass Green SB 11.00\" starts at: 102, ends at: 127\n",
      "Entity: \"PKI I Green Curry Scallops 27.95\" starts at: 128, ends at: 160\n",
      "Entity: \"PKI Piri Piri Chicken 7315\" starts at: 161, ends at: 187\n"
     ]
    }
   ],
   "source": [
    "entities_1 = [\n",
    "    'G] Karma Cab Sauv 12.00',\n",
    "    'Gl Dougass Green SB 11.00',\n",
    "    'PKI I Green Curry Scallops 27.95',\n",
    "    'PKI Piri Piri Chicken 7315'\n",
    "]\n",
    "\n",
    "entities = []\n",
    "for entity in entities_1:\n",
    "    starting_index = image_text.index(entity)\n",
    "    end_index = starting_index + len(entity)\n",
    "    entities.append([starting_index, end_index, \"RECEIPT_ITEM\"])\n",
    "    print(f'Entity: \"{entity}\" starts at: {starting_index}, ends at: {end_index}')\n",
    "    \n"
   ]
  },
  {
   "cell_type": "code",
   "execution_count": 161,
   "metadata": {},
   "outputs": [
    {
     "name": "stdout",
     "output_type": "stream",
     "text": [
      "added training data\n"
     ]
    }
   ],
   "source": [
    "# some JSON\n",
    "try:\n",
    "    # TODO: use different file when starting new labling session and update bottom write execution\n",
    "    file = open('../spacy-ner/training/training_data_fabian_1.json', 'r')\n",
    "except FileNotFoundError:\n",
    "    print('file not found')\n",
    "    data = []\n",
    "else:\n",
    "    with file:\n",
    "        data = json.load(file)\n",
    "    \n",
    "# a Python object (dict):\n",
    "x = {\n",
    "  \"text\": image_text,\n",
    "  \"entities\": entities,\n",
    "}\n",
    "\n",
    "data.append(x)\n",
    "\n",
    "# convert into JSON:\n",
    "y = json.dumps(data)\n",
    "\n",
    "with open(\"../spacy-ner/training/training_data_fabian_1.json\", \"w\") as outfile:\n",
    "    outfile.write(y)\n",
    "    \n",
    "print('added training data')"
   ]
  }
 ],
 "metadata": {
  "kernelspec": {
   "display_name": "Python 3",
   "language": "python",
   "name": "python3"
  },
  "language_info": {
   "codemirror_mode": {
    "name": "ipython",
    "version": 3
   },
   "file_extension": ".py",
   "mimetype": "text/x-python",
   "name": "python",
   "nbconvert_exporter": "python",
   "pygments_lexer": "ipython3",
   "version": "3.13.0"
  }
 },
 "nbformat": 4,
 "nbformat_minor": 2
}
