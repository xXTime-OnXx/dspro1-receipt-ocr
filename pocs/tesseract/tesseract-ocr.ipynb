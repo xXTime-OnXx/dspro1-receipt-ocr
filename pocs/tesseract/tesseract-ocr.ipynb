{
 "cells": [
  {
   "cell_type": "code",
   "execution_count": 1,
   "metadata": {},
   "outputs": [],
   "source": [
    "import cv2 \n",
    "import pytesseract\n",
    "import numpy as np\n",
    "import json\n",
    "\n",
    "pytesseract.pytesseract.tesseract_cmd = r'/opt/homebrew/bin/tesseract'"
   ]
  },
  {
   "cell_type": "markdown",
   "metadata": {},
   "source": [
    "### Functions for image preprocessing"
   ]
  },
  {
   "cell_type": "code",
   "execution_count": 2,
   "metadata": {},
   "outputs": [],
   "source": [
    "# get grayscale image\n",
    "def get_grayscale(image):\n",
    "    return cv2.cvtColor(image, cv2.COLOR_BGR2GRAY)\n",
    "\n",
    "# noise removal\n",
    "def remove_noise(image):\n",
    "    return cv2.medianBlur(image,5)\n",
    " \n",
    "#thresholding\n",
    "def thresholding(image):\n",
    "    return cv2.threshold(image, 0, 255, cv2.THRESH_BINARY + cv2.THRESH_OTSU)[1]\n",
    "\n",
    "#dilation\n",
    "def dilate(image):\n",
    "    kernel = np.ones((5,5),np.uint8)\n",
    "    return cv2.dilate(image, kernel, iterations = 1)\n",
    "    \n",
    "#erosion\n",
    "def erode(image):\n",
    "    kernel = np.ones((5,5),np.uint8)\n",
    "    return cv2.erode(image, kernel, iterations = 1)\n",
    "\n",
    "#opening - erosion followed by dilation\n",
    "def opening(image):\n",
    "    kernel = np.ones((5,5),np.uint8)\n",
    "    return cv2.morphologyEx(image, cv2.MORPH_OPEN, kernel)\n",
    "\n",
    "#canny edge detection\n",
    "def canny(image):\n",
    "    return cv2.Canny(image, 100, 200)\n",
    "\n",
    "#skew correction\n",
    "def deskew(image):\n",
    "    coords = np.column_stack(np.where(image > 0))\n",
    "    angle = cv2.minAreaRect(coords)[-1]\n",
    "    if angle < -45:\n",
    "        angle = -(90 + angle)\n",
    "    else:\n",
    "        angle = -angle\n",
    "    (h, w) = image.shape[:2]\n",
    "    center = (w // 2, h // 2)\n",
    "    M = cv2.getRotationMatrix2D(center, angle, 1.0)\n",
    "    rotated = cv2.warpAffine(image, M, (w, h), flags=cv2.INTER_CUBIC, borderMode=cv2.BORDER_REPLICATE)\n",
    "    return rotated\n",
    "\n",
    "#template matching\n",
    "def match_template(image, template):\n",
    "    return cv2.matchTemplate(image, template, cv2.TM_CCOEFF_NORMED)\n",
    "\n",
    "#resizing image\n",
    "def resize(image, scale=1.5):\n",
    "    height, width = image.shape[:2]\n",
    "    new_width = int(width * scale)\n",
    "    new_height = int(height * scale)\n",
    "    resized_image = cv2.resize(image, (new_width, new_height), interpolation=cv2.INTER_LINEAR)\n",
    "    return resized_image"
   ]
  },
  {
   "cell_type": "markdown",
   "metadata": {},
   "source": [
    "# Labeling Process"
   ]
  },
  {
   "cell_type": "code",
   "execution_count": 4,
   "metadata": {},
   "outputs": [],
   "source": [
    "img = cv2.imread('./receipt.jpg')\n",
    "\n",
    "resized = resize(img)\n",
    "gray = get_grayscale(resized)\n",
    "\n",
    "# TODO: are there more useful image preprocessing methods \n",
    "\n",
    "img = gray"
   ]
  },
  {
   "cell_type": "code",
   "execution_count": 5,
   "metadata": {},
   "outputs": [
    {
     "data": {
      "text/plain": [
       "'MIGROS\\n\\nGENOSSENSCHAFT MIGROS LUZERN\\nM Schlossberg Luzern\\n\\nArtikelbezeichnung Menge Preis Gespart Total\\n\\n0. 0.\\na bs Ee 11.\\n18. 18.\\n\\n2.\\n\\nKassentragtasche\\nKinder Mix Kalender\\nMonini Classico 11\\nCrocchini Rosmarino\\nMClass L6ffelbiscuit\\nZweifel Chips Nature\\nServietten 33x33cm\\nvalflora Vollrahm UHT\\nValflora Vollrahm UHT\\nEier Frei landhaltung\\nvalflora Vollmilch 11\\nOatly Haferdr.Barista\\nAgnesi Spaghetti N. 3\\nMClass Penne\\n\\nMClass Skyr Heidelbeer\\nYOU Skyr Mango-Passion\\nGalbani Mascarpone\\nThomy Tomatenptiree\\nZwiebeln\\n\\nBananen\\n\\nCORPRPRPNA PRP RPRPRPRPRENRPRERE\\nNP WORPRPENWHEWNWhUPH\\nNOWODRPNNOWRWNWARUNNDN\\n\\nPRP RP RP RP RP RPRPRPRPRPENRPRPRENN F\\n\\nTotal CHF\\n\\nMastercard\\n\\nBUCHUNG Mastercard\\nXXXXXXXXXXXX2 532\\n\\n30.11.2024 14:08\\n#31454544#00295699633131]NA#\\n\\nTotal EFT CHF:\\n\\nCumulus-Nummer 2099.603.400.063\\nPunktestand per 09.11.2024 1136.45\\nErhaltene Punkte\\n\\nCHE-105.802.421 MWST\\n\\nSatz Total MwST\\n2.60 78.60 1.99\\n\\n010100731402523011240081000009510\\n\\nFiliale Bed. KNr Bon Datum Zeit\\n0073140 0537999 252 0081 30.11.2024 14:04:43 Cc\\n\\nBei inhaltlichen Abweichungen zwischen diesem Dokument und den Migros\\ninternen Belegen sind letztere massgebend.\\n\\n'"
      ]
     },
     "execution_count": 5,
     "metadata": {},
     "output_type": "execute_result"
    }
   ],
   "source": [
    "image_text = pytesseract.image_to_string(img, lang='eng', config='--oem 3 -c tessedit_char_blacklist=\"!@%^&*_+=<>?/{}|\\\\~`£\"')\n",
    "image_text"
   ]
  },
  {
   "cell_type": "code",
   "execution_count": 6,
   "metadata": {},
   "outputs": [
    {
     "name": "stdout",
     "output_type": "stream",
     "text": [
      "MIGROS\n",
      "\n",
      "GENOSSENSCHAFT MIGROS LUZERN\n",
      "M Schlossberg Luzern\n",
      "\n",
      "Artikelbezeichnung Menge Preis Gespart Total\n",
      "\n",
      "0. 0.\n",
      "a bs Ee 11.\n",
      "18. 18.\n",
      "\n",
      "2.\n",
      "\n",
      "Kassentragtasche\n",
      "Kinder Mix Kalender\n",
      "Monini Classico 11\n",
      "Crocchini Rosmarino\n",
      "MClass L6ffelbiscuit\n",
      "Zweifel Chips Nature\n",
      "Servietten 33x33cm\n",
      "valflora Vollrahm UHT\n",
      "Valflora Vollrahm UHT\n",
      "Eier Frei landhaltung\n",
      "valflora Vollmilch 11\n",
      "Oatly Haferdr.Barista\n",
      "Agnesi Spaghetti N. 3\n",
      "MClass Penne\n",
      "\n",
      "MClass Skyr Heidelbeer\n",
      "YOU Skyr Mango-Passion\n",
      "Galbani Mascarpone\n",
      "Thomy Tomatenptiree\n",
      "Zwiebeln\n",
      "\n",
      "Bananen\n",
      "\n",
      "CORPRPRPNA PRP RPRPRPRPRENRPRERE\n",
      "NP WORPRPENWHEWNWhUPH\n",
      "NOWODRPNNOWRWNWARUNNDN\n",
      "\n",
      "PRP RP RP RP RP RPRPRPRPRPENRPRPRENN F\n",
      "\n",
      "Total CHF\n",
      "\n",
      "Mastercard\n",
      "\n",
      "BUCHUNG Mastercard\n",
      "XXXXXXXXXXXX2 532\n",
      "\n",
      "30.11.2024 14:08\n",
      "#31454544#00295699633131]NA#\n",
      "\n",
      "Total EFT CHF:\n",
      "\n",
      "Cumulus-Nummer 2099.603.400.063\n",
      "Punktestand per 09.11.2024 1136.45\n",
      "Erhaltene Punkte\n",
      "\n",
      "CHE-105.802.421 MWST\n",
      "\n",
      "Satz Total MwST\n",
      "2.60 78.60 1.99\n",
      "\n",
      "010100731402523011240081000009510\n",
      "\n",
      "Filiale Bed. KNr Bon Datum Zeit\n",
      "0073140 0537999 252 0081 30.11.2024 14:04:43 Cc\n",
      "\n",
      "Bei inhaltlichen Abweichungen zwischen diesem Dokument und den Migros\n",
      "internen Belegen sind letztere massgebend.\n",
      "\n",
      "\n"
     ]
    }
   ],
   "source": [
    "print(image_text)"
   ]
  },
  {
   "cell_type": "code",
   "execution_count": 373,
   "metadata": {},
   "outputs": [
    {
     "name": "stdout",
     "output_type": "stream",
     "text": [
      "Entity: \"Geae0i e Stoviglie 1,00\" starts at: 130, ends at: 153\n",
      "Entity: \"Hacedonia 10.00\" starts at: 163, ends at: 178\n",
      "Entity: \"Insalata Negombo 10.00\" starts at: 179, ends at: 201\n",
      "Entity: \"Bufala 8.00\" starts at: 202, ends at: 213\n",
      "Entity: \"Pomodor ini 4.00\" starts at: 214, ends at: 230\n",
      "Entity: \"Nat 12 It 1,00\" starts at: 231, ends at: 245\n"
     ]
    }
   ],
   "source": [
    "entities_1 = [\n",
    "    'Geae0i e Stoviglie 1,00',\n",
    "    'Hacedonia 10.00',\n",
    "    'Insalata Negombo 10.00',\n",
    "    'Bufala 8.00',\n",
    "    'Pomodor ini 4.00',\n",
    "    'Nat 12 It 1,00'\n",
    "]\n",
    "\n",
    "entities = []\n",
    "for entity in entities_1:\n",
    "    starting_index = image_text.index(entity)\n",
    "    end_index = starting_index + len(entity)\n",
    "    entities.append([starting_index, end_index, \"RECEIPT_ITEM\"])\n",
    "    print(f'Entity: \"{entity}\" starts at: {starting_index}, ends at: {end_index}')\n",
    "    \n"
   ]
  },
  {
   "cell_type": "code",
   "execution_count": 374,
   "metadata": {},
   "outputs": [
    {
     "name": "stdout",
     "output_type": "stream",
     "text": [
      "added training data\n"
     ]
    }
   ],
   "source": [
    "# some JSON\n",
    "try:\n",
    "    # TODO: use different file when starting new labling session and update bottom write execution\n",
    "    file = open('../spacy-ner/training/training_data_fabian_2.json', 'r')\n",
    "except FileNotFoundError:\n",
    "    print('file not found')\n",
    "    data = []\n",
    "else:\n",
    "    with file:\n",
    "        data = json.load(file)\n",
    "    \n",
    "# a Python object (dict):\n",
    "x = {\n",
    "  \"text\": image_text,\n",
    "  \"entities\": entities,\n",
    "}\n",
    "\n",
    "data.append(x)\n",
    "\n",
    "# convert into JSON:\n",
    "y = json.dumps(data)\n",
    "\n",
    "with open(\"../spacy-ner/training/training_data_fabian_2.json\", \"w\") as outfile:\n",
    "    outfile.write(y)\n",
    "    \n",
    "print('added training data')"
   ]
  }
 ],
 "metadata": {
  "kernelspec": {
   "display_name": ".venv",
   "language": "python",
   "name": "python3"
  },
  "language_info": {
   "codemirror_mode": {
    "name": "ipython",
    "version": 3
   },
   "file_extension": ".py",
   "mimetype": "text/x-python",
   "name": "python",
   "nbconvert_exporter": "python",
   "pygments_lexer": "ipython3",
   "version": "3.12.7"
  }
 },
 "nbformat": 4,
 "nbformat_minor": 2
}
