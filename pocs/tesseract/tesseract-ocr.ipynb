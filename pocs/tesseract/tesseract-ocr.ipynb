{
 "cells": [
  {
   "cell_type": "code",
   "execution_count": 2,
   "metadata": {},
   "outputs": [],
   "source": [
    "import cv2 \n",
    "import pytesseract\n",
    "import numpy as np\n",
    "import json\n",
    "\n",
    "pytesseract.pytesseract.tesseract_cmd = r'C:\\Users\\fabia\\AppData\\Local\\Programs\\Tesseract-OCR\\tesseract.exe'"
   ]
  },
  {
   "cell_type": "markdown",
   "metadata": {},
   "source": [
    "### Functions for image preprocessing"
   ]
  },
  {
   "cell_type": "code",
   "execution_count": 3,
   "metadata": {},
   "outputs": [],
   "source": [
    "# get grayscale image\n",
    "def get_grayscale(image):\n",
    "    return cv2.cvtColor(image, cv2.COLOR_BGR2GRAY)\n",
    "\n",
    "# noise removal\n",
    "def remove_noise(image):\n",
    "    return cv2.medianBlur(image,5)\n",
    " \n",
    "#thresholding\n",
    "def thresholding(image):\n",
    "    return cv2.threshold(image, 0, 255, cv2.THRESH_BINARY + cv2.THRESH_OTSU)[1]\n",
    "\n",
    "#dilation\n",
    "def dilate(image):\n",
    "    kernel = np.ones((5,5),np.uint8)\n",
    "    return cv2.dilate(image, kernel, iterations = 1)\n",
    "    \n",
    "#erosion\n",
    "def erode(image):\n",
    "    kernel = np.ones((5,5),np.uint8)\n",
    "    return cv2.erode(image, kernel, iterations = 1)\n",
    "\n",
    "#opening - erosion followed by dilation\n",
    "def opening(image):\n",
    "    kernel = np.ones((5,5),np.uint8)\n",
    "    return cv2.morphologyEx(image, cv2.MORPH_OPEN, kernel)\n",
    "\n",
    "#canny edge detection\n",
    "def canny(image):\n",
    "    return cv2.Canny(image, 100, 200)\n",
    "\n",
    "#skew correction\n",
    "def deskew(image):\n",
    "    coords = np.column_stack(np.where(image > 0))\n",
    "    angle = cv2.minAreaRect(coords)[-1]\n",
    "    if angle < -45:\n",
    "        angle = -(90 + angle)\n",
    "    else:\n",
    "        angle = -angle\n",
    "    (h, w) = image.shape[:2]\n",
    "    center = (w // 2, h // 2)\n",
    "    M = cv2.getRotationMatrix2D(center, angle, 1.0)\n",
    "    rotated = cv2.warpAffine(image, M, (w, h), flags=cv2.INTER_CUBIC, borderMode=cv2.BORDER_REPLICATE)\n",
    "    return rotated\n",
    "\n",
    "#template matching\n",
    "def match_template(image, template):\n",
    "    return cv2.matchTemplate(image, template, cv2.TM_CCOEFF_NORMED)\n",
    "\n",
    "#resizing image\n",
    "def resize(image, scale=1.5):\n",
    "    height, width = image.shape[:2]\n",
    "    new_width = int(width * scale)\n",
    "    new_height = int(height * scale)\n",
    "    resized_image = cv2.resize(image, (new_width, new_height), interpolation=cv2.INTER_LINEAR)\n",
    "    return resized_image"
   ]
  },
  {
   "cell_type": "markdown",
   "metadata": {},
   "source": [
    "# Labeling Process"
   ]
  },
  {
   "cell_type": "code",
   "execution_count": 377,
   "metadata": {},
   "outputs": [],
   "source": [
    "img = cv2.imread('../receipts/receipts-fabian/receipt202.jpg')\n",
    "\n",
    "resized = resize(img)\n",
    "gray = get_grayscale(resized)\n",
    "\n",
    "# TODO: are there more useful image preprocessing methods \n",
    "\n",
    "img = gray"
   ]
  },
  {
   "cell_type": "code",
   "execution_count": 378,
   "metadata": {},
   "outputs": [
    {
     "data": {
      "text/plain": [
       "'Bohmer straBe 11a\\n4190 Bad Leonfel den\\nTel: 0721380063\\n\\nThr Einkauf am eel\\nEUR\\nSPAR CLEMENT INEN 1KG 0,99 A Se ee\\naktionsersparnis 1,0 seg siane wie ine” Se eee\\nBERGBARON 3,99 A eae ea a ee\\nAkti onsersparni s 4,30 ee Seman ee . mer\\nMengenvortei I -1,00 e- oe ee ATS\\nBRESSO KNOBL 1,99 A Se aE “Sees\\nMengenvor tei I -1,00 RT:\\nSUMME 6,96 i: as\\nIhre Ersparnis heute: 7,30 EUR 3 feats tr\\nZAHLUNG BAR 10,00 ; ae es\\nRUCKGELD 3,04 ret\\nexcl. MWST . Incl.\\n\\n10 ,00 6,33\\n\\njer 216202 Kass\\n\\nwu\\n\\n96420003816\\n\\nKass a 002 Bon 7324 Pos.4\\n\\nherhei tsverordnung\\n\\nrkassensic\\ntYn5qzR3ta7s8\\n\\nksv.spar.a\\n\\nVielen Dank fur\\nThren Einkauf bei\\nSPAR\\n\\nRegistrie\\nhttps:17°\\n\\n'"
      ]
     },
     "execution_count": 378,
     "metadata": {},
     "output_type": "execute_result"
    }
   ],
   "source": [
    "image_text = pytesseract.image_to_string(img, lang='eng', config='--oem 3 -c tessedit_char_blacklist=\"!@%^&*_+=<>?/{}|\\\\~`£\"')\n",
    "image_text"
   ]
  },
  {
   "cell_type": "code",
   "execution_count": 379,
   "metadata": {},
   "outputs": [
    {
     "name": "stdout",
     "output_type": "stream",
     "text": [
      "Bohmer straBe 11a\n",
      "4190 Bad Leonfel den\n",
      "Tel: 0721380063\n",
      "\n",
      "Thr Einkauf am eel\n",
      "EUR\n",
      "SPAR CLEMENT INEN 1KG 0,99 A Se ee\n",
      "aktionsersparnis 1,0 seg siane wie ine” Se eee\n",
      "BERGBARON 3,99 A eae ea a ee\n",
      "Akti onsersparni s 4,30 ee Seman ee . mer\n",
      "Mengenvortei I -1,00 e- oe ee ATS\n",
      "BRESSO KNOBL 1,99 A Se aE “Sees\n",
      "Mengenvor tei I -1,00 RT:\n",
      "SUMME 6,96 i: as\n",
      "Ihre Ersparnis heute: 7,30 EUR 3 feats tr\n",
      "ZAHLUNG BAR 10,00 ; ae es\n",
      "RUCKGELD 3,04 ret\n",
      "excl. MWST . Incl.\n",
      "\n",
      "10 ,00 6,33\n",
      "\n",
      "jer 216202 Kass\n",
      "\n",
      "wu\n",
      "\n",
      "96420003816\n",
      "\n",
      "Kass a 002 Bon 7324 Pos.4\n",
      "\n",
      "herhei tsverordnung\n",
      "\n",
      "rkassensic\n",
      "tYn5qzR3ta7s8\n",
      "\n",
      "ksv.spar.a\n",
      "\n",
      "Vielen Dank fur\n",
      "Thren Einkauf bei\n",
      "SPAR\n",
      "\n",
      "Registrie\n",
      "https:17°\n",
      "\n",
      "\n"
     ]
    }
   ],
   "source": [
    "print(image_text)"
   ]
  },
  {
   "cell_type": "code",
   "execution_count": 373,
   "metadata": {},
   "outputs": [
    {
     "name": "stdout",
     "output_type": "stream",
     "text": [
      "Entity: \"Geae0i e Stoviglie 1,00\" starts at: 130, ends at: 153\n",
      "Entity: \"Hacedonia 10.00\" starts at: 163, ends at: 178\n",
      "Entity: \"Insalata Negombo 10.00\" starts at: 179, ends at: 201\n",
      "Entity: \"Bufala 8.00\" starts at: 202, ends at: 213\n",
      "Entity: \"Pomodor ini 4.00\" starts at: 214, ends at: 230\n",
      "Entity: \"Nat 12 It 1,00\" starts at: 231, ends at: 245\n"
     ]
    }
   ],
   "source": [
    "entities_1 = [\n",
    "    'Geae0i e Stoviglie 1,00',\n",
    "    'Hacedonia 10.00',\n",
    "    'Insalata Negombo 10.00',\n",
    "    'Bufala 8.00',\n",
    "    'Pomodor ini 4.00',\n",
    "    'Nat 12 It 1,00'\n",
    "]\n",
    "\n",
    "entities = []\n",
    "for entity in entities_1:\n",
    "    starting_index = image_text.index(entity)\n",
    "    end_index = starting_index + len(entity)\n",
    "    entities.append([starting_index, end_index, \"RECEIPT_ITEM\"])\n",
    "    print(f'Entity: \"{entity}\" starts at: {starting_index}, ends at: {end_index}')\n",
    "    \n"
   ]
  },
  {
   "cell_type": "code",
   "execution_count": 374,
   "metadata": {},
   "outputs": [
    {
     "name": "stdout",
     "output_type": "stream",
     "text": [
      "added training data\n"
     ]
    }
   ],
   "source": [
    "# some JSON\n",
    "try:\n",
    "    # TODO: use different file when starting new labling session and update bottom write execution\n",
    "    file = open('../spacy-ner/training/training_data_fabian_2.json', 'r')\n",
    "except FileNotFoundError:\n",
    "    print('file not found')\n",
    "    data = []\n",
    "else:\n",
    "    with file:\n",
    "        data = json.load(file)\n",
    "    \n",
    "# a Python object (dict):\n",
    "x = {\n",
    "  \"text\": image_text,\n",
    "  \"entities\": entities,\n",
    "}\n",
    "\n",
    "data.append(x)\n",
    "\n",
    "# convert into JSON:\n",
    "y = json.dumps(data)\n",
    "\n",
    "with open(\"../spacy-ner/training/training_data_fabian_2.json\", \"w\") as outfile:\n",
    "    outfile.write(y)\n",
    "    \n",
    "print('added training data')"
   ]
  }
 ],
 "metadata": {
  "kernelspec": {
   "display_name": "Python 3",
   "language": "python",
   "name": "python3"
  },
  "language_info": {
   "codemirror_mode": {
    "name": "ipython",
    "version": 3
   },
   "file_extension": ".py",
   "mimetype": "text/x-python",
   "name": "python",
   "nbconvert_exporter": "python",
   "pygments_lexer": "ipython3",
   "version": "3.13.0"
  }
 },
 "nbformat": 4,
 "nbformat_minor": 2
}
