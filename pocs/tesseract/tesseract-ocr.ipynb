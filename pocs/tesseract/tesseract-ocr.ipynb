{
 "cells": [
  {
   "cell_type": "code",
   "execution_count": 28,
   "metadata": {},
   "outputs": [],
   "source": [
    "import cv2 \n",
    "import pytesseract\n",
    "import numpy as np\n",
    "import json\n",
    "\n",
    "pytesseract.pytesseract.tesseract_cmd = r'/opt/homebrew/bin/tesseract'"
   ]
  },
  {
   "cell_type": "markdown",
   "metadata": {},
   "source": [
    "### Functions for image preprocessing"
   ]
  },
  {
   "cell_type": "code",
   "execution_count": 29,
   "metadata": {},
   "outputs": [],
   "source": [
    "# get grayscale image\n",
    "def get_grayscale(image):\n",
    "    return cv2.cvtColor(image, cv2.COLOR_BGR2GRAY)\n",
    "\n",
    "# noise removal\n",
    "def remove_noise(image):\n",
    "    return cv2.medianBlur(image,5)\n",
    " \n",
    "#thresholding\n",
    "def thresholding(image):\n",
    "    return cv2.threshold(image, 0, 255, cv2.THRESH_BINARY + cv2.THRESH_OTSU)[1]\n",
    "\n",
    "#dilation\n",
    "def dilate(image):\n",
    "    kernel = np.ones((5,5),np.uint8)\n",
    "    return cv2.dilate(image, kernel, iterations = 1)\n",
    "    \n",
    "#erosion\n",
    "def erode(image):\n",
    "    kernel = np.ones((5,5),np.uint8)\n",
    "    return cv2.erode(image, kernel, iterations = 1)\n",
    "\n",
    "#opening - erosion followed by dilation\n",
    "def opening(image):\n",
    "    kernel = np.ones((5,5),np.uint8)\n",
    "    return cv2.morphologyEx(image, cv2.MORPH_OPEN, kernel)\n",
    "\n",
    "#canny edge detection\n",
    "def canny(image):\n",
    "    return cv2.Canny(image, 100, 200)\n",
    "\n",
    "#skew correction\n",
    "def deskew(image):\n",
    "    coords = np.column_stack(np.where(image > 0))\n",
    "    angle = cv2.minAreaRect(coords)[-1]\n",
    "    if angle < -45:\n",
    "        angle = -(90 + angle)\n",
    "    else:\n",
    "        angle = -angle\n",
    "    (h, w) = image.shape[:2]\n",
    "    center = (w // 2, h // 2)\n",
    "    M = cv2.getRotationMatrix2D(center, angle, 1.0)\n",
    "    rotated = cv2.warpAffine(image, M, (w, h), flags=cv2.INTER_CUBIC, borderMode=cv2.BORDER_REPLICATE)\n",
    "    return rotated\n",
    "\n",
    "#template matching\n",
    "def match_template(image, template):\n",
    "    return cv2.matchTemplate(image, template, cv2.TM_CCOEFF_NORMED)"
   ]
  },
  {
   "cell_type": "code",
   "execution_count": 30,
   "metadata": {},
   "outputs": [],
   "source": [
    "img = cv2.imread('../receipts/receipt3.jpg')\n",
    "\n",
    "gray = get_grayscale(img)\n",
    "thresh = thresholding(gray)\n",
    "\n",
    "# TODO: are there more useful image preprocessing methods \n",
    "\n",
    "img = thresh"
   ]
  },
  {
   "cell_type": "code",
   "execution_count": 31,
   "metadata": {},
   "outputs": [
    {
     "data": {
      "text/plain": [
       "'MIGROS\\n\\nGENOSSENSCHAFT MIGROS LUZERN\\nM Schlossberg Luzern\\n\\nArtikelbezeichnung Menge Preis Gespart Total #\\nKassentragtasche 1 0.40 0.402\\nKinder Mix Kalender 1 11.60 11.60 2\\nMonini Classico 11 1 18.50 18.50 1\\nCrocchini Rosmarino 1 2.80 2.80 1\\nMClass Löffelbiscuit 2 1.00 2.00 1\\nZweifel Chips Nature 1 5.95 5.95 1\\nServietten 33x33cm 1 4.50 4.50 2\\nvalflora vollrahm unt 1 3.50 3.50 1\\nvalflora vollrahm unt 1 2.10 2.10 1\\nEier Freilandhaltung 1 3.95 3.95 1\\nvalflora vollmilch 11 1 1.65 1.65 1\\nOatly Haferdr.Barista 1 3.40 3.40 1\\nAgnesi Spaghetti N. 3 4 2.50 10.00 1\\nMClass Penne 4 1.90 7.60 1\\nMClass Skyr Heidelbeer 2 1.25 2.50 1\\nYOU Skyr Mango-Passion 1 1.80 1.80 1\\nGalbanı Mascarpone 1 6.95 6.95 1\\nThomy Tomatenpüree 1 3.40 3.40 1\\nZwiebeln 0.281 1.60 0.45 1\\nBananen 0.820 2.50 2.05 1\\nTotal CHF 95.10\\nMastercard 95.10\\n\\nBUCHUNG Mastercard\\n\\nKRXXXKKXXKXX2532\\n\\n30.11.2024 14:08\\n\\n#31454544*00295699/633131/NA#\\n\\nTotal EFT CHF: 95.10\\n2-2 tel:00295699/633131\\nCumulus-Nummer .603.400.063\\nPunktestand per 09.11.2024 1136.45\\nErhaltene Punkte 95.10\\n# MWST. -Nummer CHE-105.802.421 MWST\\ngr Satz Total MWST\\n1 2.60 % 78.60 1.99\\n2 8.10% 16.50 1.24\\n\\nBesten Dank für Ihren Einkauf!\\n010100731402523011240081000009510\\n\\nFiliale Bed. KNr Bon Datum zeit\\n\\n0073140 0537999 252 0081 30.11.2024 14:04:43 cC\\n\\nBei inhaltlichen Abweichungen zwischen diesem Dokument und den Migros\\ninternen Belegen sind letztere massgebend.\\n\\n'"
      ]
     },
     "execution_count": 31,
     "metadata": {},
     "output_type": "execute_result"
    }
   ],
   "source": [
    "image_text = pytesseract.image_to_string(img, lang='deu')\n",
    "image_text"
   ]
  },
  {
   "cell_type": "code",
   "execution_count": 32,
   "metadata": {},
   "outputs": [
    {
     "name": "stdout",
     "output_type": "stream",
     "text": [
      "MIGROS\n",
      "\n",
      "GENOSSENSCHAFT MIGROS LUZERN\n",
      "M Schlossberg Luzern\n",
      "\n",
      "Artikelbezeichnung Menge Preis Gespart Total #\n",
      "Kassentragtasche 1 0.40 0.402\n",
      "Kinder Mix Kalender 1 11.60 11.60 2\n",
      "Monini Classico 11 1 18.50 18.50 1\n",
      "Crocchini Rosmarino 1 2.80 2.80 1\n",
      "MClass Löffelbiscuit 2 1.00 2.00 1\n",
      "Zweifel Chips Nature 1 5.95 5.95 1\n",
      "Servietten 33x33cm 1 4.50 4.50 2\n",
      "valflora vollrahm unt 1 3.50 3.50 1\n",
      "valflora vollrahm unt 1 2.10 2.10 1\n",
      "Eier Freilandhaltung 1 3.95 3.95 1\n",
      "valflora vollmilch 11 1 1.65 1.65 1\n",
      "Oatly Haferdr.Barista 1 3.40 3.40 1\n",
      "Agnesi Spaghetti N. 3 4 2.50 10.00 1\n",
      "MClass Penne 4 1.90 7.60 1\n",
      "MClass Skyr Heidelbeer 2 1.25 2.50 1\n",
      "YOU Skyr Mango-Passion 1 1.80 1.80 1\n",
      "Galbanı Mascarpone 1 6.95 6.95 1\n",
      "Thomy Tomatenpüree 1 3.40 3.40 1\n",
      "Zwiebeln 0.281 1.60 0.45 1\n",
      "Bananen 0.820 2.50 2.05 1\n",
      "Total CHF 95.10\n",
      "Mastercard 95.10\n",
      "\n",
      "BUCHUNG Mastercard\n",
      "\n",
      "KRXXXKKXXKXX2532\n",
      "\n",
      "30.11.2024 14:08\n",
      "\n",
      "#31454544*00295699/633131/NA#\n",
      "\n",
      "Total EFT CHF: 95.10\n",
      "2-2 tel:00295699/633131\n",
      "Cumulus-Nummer .603.400.063\n",
      "Punktestand per 09.11.2024 1136.45\n",
      "Erhaltene Punkte 95.10\n",
      "# MWST. -Nummer CHE-105.802.421 MWST\n",
      "gr Satz Total MWST\n",
      "1 2.60 % 78.60 1.99\n",
      "2 8.10% 16.50 1.24\n",
      "\n",
      "Besten Dank für Ihren Einkauf!\n",
      "010100731402523011240081000009510\n",
      "\n",
      "Filiale Bed. KNr Bon Datum zeit\n",
      "\n",
      "0073140 0537999 252 0081 30.11.2024 14:04:43 cC\n",
      "\n",
      "Bei inhaltlichen Abweichungen zwischen diesem Dokument und den Migros\n",
      "internen Belegen sind letztere massgebend.\n",
      "\n",
      "\n"
     ]
    }
   ],
   "source": [
    "print(image_text)"
   ]
  },
  {
   "cell_type": "code",
   "execution_count": 33,
   "metadata": {},
   "outputs": [
    {
     "name": "stdout",
     "output_type": "stream",
     "text": [
      "Entity: \"Kassentragtasche 1 0.40 0.402\" starts at: 106, ends at: 135\n",
      "Entity: \"Kinder Mix Kalender 1 11.60 11.60 2\" starts at: 136, ends at: 171\n",
      "Entity: \"Monini Classico 11 1 18.50 18.50 1\" starts at: 172, ends at: 206\n",
      "Entity: \"Crocchini Rosmarino 1 2.80 2.80 1\" starts at: 207, ends at: 240\n",
      "Entity: \"MClass Löffelbiscuit 2 1.00 2.00 1\" starts at: 241, ends at: 275\n",
      "Entity: \"Zweifel Chips Nature 1 5.95 5.95 1\" starts at: 276, ends at: 310\n",
      "Entity: \"Servietten 33x33cm 1 4.50 4.50 2\" starts at: 311, ends at: 343\n",
      "Entity: \"valflora vollrahm unt 1 3.50 3.50 1\" starts at: 344, ends at: 379\n",
      "Entity: \"valflora vollrahm unt 1 2.10 2.10 1\" starts at: 380, ends at: 415\n",
      "Entity: \"Eier Freilandhaltung 1 3.95 3.95 1\" starts at: 416, ends at: 450\n",
      "Entity: \"valflora vollmilch 11 1 1.65 1.65 1\" starts at: 451, ends at: 486\n",
      "Entity: \"Oatly Haferdr.Barista 1 3.40 3.40 1\" starts at: 487, ends at: 522\n",
      "Entity: \"Agnesi Spaghetti N. 3 4 2.50 10.00 1\" starts at: 523, ends at: 559\n",
      "Entity: \"MClass Penne 4 1.90 7.60 1\" starts at: 560, ends at: 586\n",
      "Entity: \"MClass Skyr Heidelbeer 2 1.25 2.50 1\" starts at: 587, ends at: 623\n",
      "Entity: \"YOU Skyr Mango-Passion 1 1.80 1.80 1\" starts at: 624, ends at: 660\n",
      "Entity: \"Galbanı Mascarpone 1 6.95 6.95 1\" starts at: 661, ends at: 693\n",
      "Entity: \"Thomy Tomatenpüree 1 3.40 3.40 1\" starts at: 694, ends at: 726\n",
      "Entity: \"Zwiebeln 0.281 1.60 0.45 1\" starts at: 727, ends at: 753\n",
      "Entity: \"Bananen 0.820 2.50 2.05 1\" starts at: 754, ends at: 779\n"
     ]
    }
   ],
   "source": [
    "entities_1 = [\n",
    "    'Kassentragtasche 1 0.40 0.402',\n",
    "    'Kinder Mix Kalender 1 11.60 11.60 2',\n",
    "    'Monini Classico 11 1 18.50 18.50 1',\n",
    "    'Crocchini Rosmarino 1 2.80 2.80 1',\n",
    "    'MClass Löffelbiscuit 2 1.00 2.00 1',\n",
    "    'Zweifel Chips Nature 1 5.95 5.95 1',\n",
    "    'Servietten 33x33cm 1 4.50 4.50 2',\n",
    "    'valflora vollrahm unt 1 3.50 3.50 1',\n",
    "    'valflora vollrahm unt 1 2.10 2.10 1',\n",
    "    'Eier Freilandhaltung 1 3.95 3.95 1',\n",
    "    'valflora vollmilch 11 1 1.65 1.65 1',\n",
    "    'Oatly Haferdr.Barista 1 3.40 3.40 1',\n",
    "    'Agnesi Spaghetti N. 3 4 2.50 10.00 1',\n",
    "    'MClass Penne 4 1.90 7.60 1',\n",
    "    'MClass Skyr Heidelbeer 2 1.25 2.50 1',\n",
    "    'YOU Skyr Mango-Passion 1 1.80 1.80 1',\n",
    "    'Galbanı Mascarpone 1 6.95 6.95 1',\n",
    "    'Thomy Tomatenpüree 1 3.40 3.40 1',\n",
    "    'Zwiebeln 0.281 1.60 0.45 1',\n",
    "    'Bananen 0.820 2.50 2.05 1'\n",
    "]\n",
    "\n",
    "entities = []\n",
    "for entity in entities_1:\n",
    "    starting_index = image_text.index(entity)\n",
    "    end_index = starting_index + len(entity)\n",
    "    entities.append([starting_index, end_index, \"RECEIPT_ITEM\"])\n",
    "    print(f'Entity: \"{entity}\" starts at: {starting_index}, ends at: {end_index}')\n",
    "    \n"
   ]
  },
  {
   "cell_type": "code",
   "execution_count": null,
   "metadata": {},
   "outputs": [],
   "source": [
    "# some JSON\n",
    "try:\n",
    "    # TODO: use different file when starting new labling session and update bottom write execution\n",
    "    file = open('../spacy-ner/training/training_data_session1', 'r')\n",
    "except FileNotFoundError:\n",
    "    data = []\n",
    "else:\n",
    "    with file:\n",
    "        data = json.load(file)\n",
    "    \n",
    "# a Python object (dict):\n",
    "x = {\n",
    "  \"text\": image_text,\n",
    "  \"entities\": entities,\n",
    "}\n",
    "\n",
    "data.append(x)\n",
    "\n",
    "# convert into JSON:\n",
    "y = json.dumps(data)\n",
    "\n",
    "with open(\"../spacy-ner/training/training_data_session1.json\", \"w\") as outfile:\n",
    "    outfile.write(y)"
   ]
  }
 ],
 "metadata": {
  "kernelspec": {
   "display_name": ".venv",
   "language": "python",
   "name": "python3"
  },
  "language_info": {
   "codemirror_mode": {
    "name": "ipython",
    "version": 3
   },
   "file_extension": ".py",
   "mimetype": "text/x-python",
   "name": "python",
   "nbconvert_exporter": "python",
   "pygments_lexer": "ipython3",
   "version": "3.12.7"
  }
 },
 "nbformat": 4,
 "nbformat_minor": 2
}
