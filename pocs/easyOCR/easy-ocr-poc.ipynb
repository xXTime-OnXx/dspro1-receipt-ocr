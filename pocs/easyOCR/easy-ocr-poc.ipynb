{
 "cells": [
  {
   "cell_type": "code",
   "execution_count": 1,
   "metadata": {},
   "outputs": [],
   "source": [
    "import easyocr"
   ]
  },
  {
   "cell_type": "code",
   "execution_count": 2,
   "metadata": {},
   "outputs": [
    {
     "name": "stderr",
     "output_type": "stream",
     "text": [
      "Downloading detection model, please wait. This may take several minutes depending upon your network connection.\n"
     ]
    },
    {
     "name": "stdout",
     "output_type": "stream",
     "text": [
      "Progress: |██████████████████████████████████████████████████| 100.0% Complete"
     ]
    },
    {
     "name": "stderr",
     "output_type": "stream",
     "text": [
      "Downloading recognition model, please wait. This may take several minutes depending upon your network connection.\n"
     ]
    },
    {
     "name": "stdout",
     "output_type": "stream",
     "text": [
      "Progress: |██████████████████████████████████████████████████| 100.0% Complete"
     ]
    }
   ],
   "source": [
    "# Create an OCR reader object\n",
    "reader = easyocr.Reader(['en'])"
   ]
  },
  {
   "cell_type": "code",
   "execution_count": 3,
   "metadata": {},
   "outputs": [
    {
     "name": "stdout",
     "output_type": "stream",
     "text": [
      "GFEEN FIELD\n",
      "5305\n",
      "E PaciFIC coaST hwy\n",
      "Long Beach\n",
      "Ca 90804\n",
      "(562)\n",
      "597-0906\n",
      "Server\n",
      "Franc is\n",
      "Stat ion :\n",
      "1\n",
      "Order\n",
      "69923\n",
      "Dine\n",
      "In\n",
      "Ie\n",
      "BII\n",
      "Guests\n",
      "2\n",
      "Co f fee\n",
      "3.00\n",
      "2 Lunch\n",
      "45.90\n",
      "Coke\n",
      "3.00\n",
      "SUB   TOTAL:\n",
      "51.90\n",
      "Tax I:\n",
      "4.60\n",
      "TOTAL;\n",
      "456.50 \n",
      "5/26/2016 12.53:10 PM\n",
      "THANK  YOU !\n",
      "Tab\n"
     ]
    }
   ],
   "source": [
    "# Read text from an image\n",
    "result = reader.readtext('./receipt1.jpg')\n",
    "\n",
    "# Print the extracted text\n",
    "for detection in result:\n",
    "    print(detection[1])"
   ]
  }
 ],
 "metadata": {
  "kernelspec": {
   "display_name": ".venv",
   "language": "python",
   "name": "python3"
  },
  "language_info": {
   "codemirror_mode": {
    "name": "ipython",
    "version": 3
   },
   "file_extension": ".py",
   "mimetype": "text/x-python",
   "name": "python",
   "nbconvert_exporter": "python",
   "pygments_lexer": "ipython3",
   "version": "3.12.7"
  }
 },
 "nbformat": 4,
 "nbformat_minor": 2
}
