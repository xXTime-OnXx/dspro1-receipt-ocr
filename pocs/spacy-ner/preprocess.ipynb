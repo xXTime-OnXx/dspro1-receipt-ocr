{
 "cells": [
  {
   "cell_type": "code",
   "execution_count": 13,
   "metadata": {},
   "outputs": [],
   "source": [
    "import random\n",
    "\n",
    "import spacy\n",
    "from spacy.training.example import Example\n",
    "\n",
    "\n",
    "nlp = spacy.blank(\"en\")"
   ]
  },
  {
   "cell_type": "markdown",
   "metadata": {},
   "source": [
    "## Prepare Training Data"
   ]
  },
  {
   "cell_type": "markdown",
   "metadata": {},
   "source": [
    "First, we have to know the exact position of the entities in a string"
   ]
  },
  {
   "cell_type": "code",
   "execution_count": 1,
   "metadata": {},
   "outputs": [
    {
     "name": "stdout",
     "output_type": "stream",
     "text": [
      "Entity: \"1 Coffee                3.00\" starts at: 245, ends at: 273\n",
      "Entity: \"2 Lunch                 45.90\" starts at: 274, ends at: 303\n",
      "Entity: \"1 Coke                  3.00\" starts at: 304, ends at: 332\n"
     ]
    }
   ],
   "source": [
    "text_1 = \"GREEN FIELD\\n5305 E PACIFIC COAST HWY\\nLong Beach, CA 90804\\n(562) 597-0906\\n\\nServer: Francis         Station: 3\\n----------------------------------\\nOrder #: 69923          Dine In\\nTable: B11              Guests: 2\\n----------------------------------\\n1 Coffee                3.00\\n2 Lunch                 45.90\\n1 Coke                  3.00\\n\\nSUB TOTAL:              51.90\\nTax 1:                  4.60\\n\\nTOTAL:                  $56.58\\n\\n    5/26/2016 12:53:10 PM\\n\\n        THANK YOU!\"\n",
    "\n",
    "entities_1 = [\n",
    "    '1 Coffee                3.00',\n",
    "    '2 Lunch                 45.90',\n",
    "    '1 Coke                  3.00'\n",
    "]\n",
    "\n",
    "for entity in entities_1:\n",
    "    starting_index = text_1.index(entity)\n",
    "    print(f'Entity: \"{entity}\" starts at: {starting_index}, ends at: {starting_index + len(entity)}')"
   ]
  },
  {
   "cell_type": "code",
   "execution_count": null,
   "metadata": {},
   "outputs": [],
   "source": [
    "data1 = '''\n",
    "GREEN FIELD\n",
    "5305 E PACIFIC COAST HWY\n",
    "Long Beach, CA 90804\n",
    "(562) 597-0906\n",
    "\n",
    "Server: Francis         Station: 3\n",
    "----------------------------------\n",
    "Order #: 69923          Dine In\n",
    "Table: B11              Guests: 2\n",
    "----------------------------------\n",
    "1 Coffee                3.00\n",
    "2 Lunch                 45.90\n",
    "1 Coke                  3.00\n",
    "\n",
    "SUB TOTAL:              51.90\n",
    "Tax 1:                  4.60\n",
    "\n",
    "TOTAL:                  $56.58\n",
    "\n",
    "    5/26/2016 12:53:10 PM\n",
    "\n",
    "        THANK YOU!\n",
    "'''\n",
    "\n",
    "training_data = [\n",
    "    (\n",
    "        data1,\n",
    "        [\n",
    "            (245, 273, \"RECEIPT_ITEM\"),\n",
    "            (274, 303, \"RECEIPT_ITEM\"),\n",
    "            (304, 332, \"RECEIPT_ITEM\"),\n",
    "        ]\n",
    "    ),\n",
    "]"
   ]
  }
 ],
 "metadata": {
  "kernelspec": {
   "display_name": ".venv",
   "language": "python",
   "name": "python3"
  },
  "language_info": {
   "codemirror_mode": {
    "name": "ipython",
    "version": 3
   },
   "file_extension": ".py",
   "mimetype": "text/x-python",
   "name": "python",
   "nbconvert_exporter": "python",
   "pygments_lexer": "ipython3",
   "version": "3.12.7"
  }
 },
 "nbformat": 4,
 "nbformat_minor": 2
}
