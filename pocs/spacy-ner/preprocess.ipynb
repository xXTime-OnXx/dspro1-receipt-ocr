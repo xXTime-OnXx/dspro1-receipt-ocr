{
 "cells": [
  {
   "cell_type": "code",
   "execution_count": 13,
   "metadata": {},
   "outputs": [],
   "source": [
    "import random\n",
    "\n",
    "import spacy\n",
    "from spacy.training.example import Example\n",
    "\n",
    "\n",
    "nlp = spacy.blank(\"en\")"
   ]
  },
  {
   "cell_type": "markdown",
   "metadata": {},
   "source": [
    "## Prepare Training Data"
   ]
  },
  {
   "cell_type": "markdown",
   "metadata": {},
   "source": [
    "First, we have to know the exact position of the entities in a string"
   ]
  },
  {
   "cell_type": "code",
   "execution_count": 8,
   "metadata": {},
   "outputs": [
    {
     "name": "stdout",
     "output_type": "stream",
     "text": [
      "Entity: \"1 Coffee                3.00\" starts at: 246, ends at: 274\n",
      "Entity: \"2 Lunch                 45.90\" starts at: 275, ends at: 304\n",
      "Entity: \"1 Coke                  3.00\" starts at: 305, ends at: 333\n"
     ]
    }
   ],
   "source": [
    "text_1 = '''\n",
    "GREEN FIELD\n",
    "5305 E PACIFIC COAST HWY\n",
    "Long Beach, CA 90804\n",
    "(562) 597-0906\n",
    "\n",
    "Server: Francis         Station: 3\n",
    "----------------------------------\n",
    "Order #: 69923          Dine In\n",
    "Table: B11              Guests: 2\n",
    "----------------------------------\n",
    "1 Coffee                3.00\n",
    "2 Lunch                 45.90\n",
    "1 Coke                  3.00\n",
    "\n",
    "SUB TOTAL:              51.90\n",
    "Tax 1:                  4.60\n",
    "\n",
    "TOTAL:                  $56.58\n",
    "\n",
    "    5/26/2016 12:53:10 PM\n",
    "\n",
    "        THANK YOU!\n",
    "'''\n",
    "\n",
    "entities_1 = [\n",
    "    '1 Coffee                3.00',\n",
    "    '2 Lunch                 45.90',\n",
    "    '1 Coke                  3.00'\n",
    "]\n",
    "\n",
    "for entity in entities_1:\n",
    "    starting_index = text_1.index(entity)\n",
    "    print(f'Entity: \"{entity}\" starts at: {starting_index}, ends at: {starting_index + len(entity)}')"
   ]
  },
  {
   "cell_type": "code",
   "execution_count": 9,
   "metadata": {},
   "outputs": [],
   "source": [
    "data1 = '''\n",
    "GREEN FIELD\n",
    "5305 E PACIFIC COAST HWY\n",
    "Long Beach, CA 90804\n",
    "(562) 597-0906\n",
    "\n",
    "Server: Francis         Station: 3\n",
    "----------------------------------\n",
    "Order #: 69923          Dine In\n",
    "Table: B11              Guests: 2\n",
    "----------------------------------\n",
    "1 Coffee                3.00\n",
    "2 Lunch                 45.90\n",
    "1 Coke                  3.00\n",
    "\n",
    "SUB TOTAL:              51.90\n",
    "Tax 1:                  4.60\n",
    "\n",
    "TOTAL:                  $56.58\n",
    "\n",
    "    5/26/2016 12:53:10 PM\n",
    "\n",
    "        THANK YOU!\n",
    "'''\n",
    "\n",
    "training_data = [\n",
    "    (\n",
    "        data1,\n",
    "        [\n",
    "            (246, 274, \"RECEIPT_ITEM\"),\n",
    "            (275, 304, \"RECEIPT_ITEM\"),\n",
    "            (305, 333, \"RECEIPT_ITEM\"),\n",
    "        ]\n",
    "    ),\n",
    "]"
   ]
  },
  {
   "cell_type": "code",
   "execution_count": 10,
   "metadata": {},
   "outputs": [],
   "source": [
    "ner = None\n",
    "if \"ner\" not in nlp.pipe_names:\n",
    "    ner = nlp.add_pipe(\"ner\")\n",
    "else:\n",
    "    ner = nlp.get_pipe(\"ner\")"
   ]
  },
  {
   "cell_type": "markdown",
   "metadata": {},
   "source": [
    "Add labels to the NER"
   ]
  },
  {
   "cell_type": "code",
   "execution_count": 11,
   "metadata": {},
   "outputs": [],
   "source": [
    "for _, annotations in training_data:\n",
    "    for annotation in annotations:\n",
    "        ner.add_label(annotation[2])"
   ]
  },
  {
   "cell_type": "markdown",
   "metadata": {},
   "source": [
    "## Train the model\n",
    "We need an optimizer and a few training parameters."
   ]
  },
  {
   "cell_type": "markdown",
   "metadata": {},
   "source": [
    "### Prepare the training data"
   ]
  },
  {
   "cell_type": "code",
   "execution_count": 15,
   "metadata": {},
   "outputs": [
    {
     "ename": "TypeError",
     "evalue": "Argument 'example_dict' has incorrect type (expected dict, got list)",
     "output_type": "error",
     "traceback": [
      "\u001b[0;31m---------------------------------------------------------------------------\u001b[0m",
      "\u001b[0;31mTypeError\u001b[0m                                 Traceback (most recent call last)",
      "Cell \u001b[0;32mIn[15], line 3\u001b[0m\n\u001b[1;32m      1\u001b[0m examples \u001b[38;5;241m=\u001b[39m []\n\u001b[1;32m      2\u001b[0m \u001b[38;5;28;01mfor\u001b[39;00m text, annotations \u001b[38;5;129;01min\u001b[39;00m training_data:\n\u001b[0;32m----> 3\u001b[0m     examples\u001b[38;5;241m.\u001b[39mappend(\u001b[43mExample\u001b[49m\u001b[38;5;241;43m.\u001b[39;49m\u001b[43mfrom_dict\u001b[49m\u001b[43m(\u001b[49m\u001b[43mnlp\u001b[49m\u001b[38;5;241;43m.\u001b[39;49m\u001b[43mmake_doc\u001b[49m\u001b[43m(\u001b[49m\u001b[43mtext\u001b[49m\u001b[43m)\u001b[49m\u001b[43m,\u001b[49m\u001b[43m \u001b[49m\u001b[43mannotations\u001b[49m\u001b[43m)\u001b[49m)\n",
      "\u001b[0;31mTypeError\u001b[0m: Argument 'example_dict' has incorrect type (expected dict, got list)"
     ]
    }
   ],
   "source": [
    "examples = []\n",
    "for text, annotations in training_data:\n",
    "    examples.append(Example.from_dict(nlp.make_doc(text), annotations))"
   ]
  },
  {
   "cell_type": "markdown",
   "metadata": {},
   "source": [
    "### Disable other pipeline components for faster training"
   ]
  },
  {
   "cell_type": "code",
   "execution_count": 14,
   "metadata": {},
   "outputs": [
    {
     "ename": "NameError",
     "evalue": "name 'examples' is not defined",
     "output_type": "error",
     "traceback": [
      "\u001b[0;31m---------------------------------------------------------------------------\u001b[0m",
      "\u001b[0;31mNameError\u001b[0m                                 Traceback (most recent call last)",
      "Cell \u001b[0;32mIn[14], line 5\u001b[0m\n\u001b[1;32m      3\u001b[0m optimizer \u001b[38;5;241m=\u001b[39m nlp\u001b[38;5;241m.\u001b[39mbegin_training()\n\u001b[1;32m      4\u001b[0m \u001b[38;5;28;01mfor\u001b[39;00m epoch \u001b[38;5;129;01min\u001b[39;00m \u001b[38;5;28mrange\u001b[39m(\u001b[38;5;241m30\u001b[39m):\n\u001b[0;32m----> 5\u001b[0m     random\u001b[38;5;241m.\u001b[39mshuffle(\u001b[43mexamples\u001b[49m)\n\u001b[1;32m      6\u001b[0m     losses \u001b[38;5;241m=\u001b[39m {}\n\u001b[1;32m      7\u001b[0m     \u001b[38;5;28;01mfor\u001b[39;00m batch \u001b[38;5;129;01min\u001b[39;00m spacy\u001b[38;5;241m.\u001b[39mutil\u001b[38;5;241m.\u001b[39mminibatch(examples, size\u001b[38;5;241m=\u001b[39m\u001b[38;5;241m8\u001b[39m):\n",
      "\u001b[0;31mNameError\u001b[0m: name 'examples' is not defined"
     ]
    }
   ],
   "source": [
    "other_pipes = [pipe for pipe in nlp.pipe_names if pipe != \"ner\"]\n",
    "with nlp.disable_pipes(*other_pipes):\n",
    "    optimizer = nlp.begin_training()\n",
    "    for epoch in range(30):\n",
    "        random.shuffle(examples)\n",
    "        losses = {}\n",
    "        for batch in spacy.util.minibatch(examples, size=8):\n",
    "            nlp.update(batch, drop=0.5, losses=losses)\n",
    "        print(f'Epoch {epoch}, Loss: {losses}')"
   ]
  }
 ],
 "metadata": {
  "kernelspec": {
   "display_name": ".venv",
   "language": "python",
   "name": "python3"
  },
  "language_info": {
   "codemirror_mode": {
    "name": "ipython",
    "version": 3
   },
   "file_extension": ".py",
   "mimetype": "text/x-python",
   "name": "python",
   "nbconvert_exporter": "python",
   "pygments_lexer": "ipython3",
   "version": "3.12.7"
  }
 },
 "nbformat": 4,
 "nbformat_minor": 2
}
