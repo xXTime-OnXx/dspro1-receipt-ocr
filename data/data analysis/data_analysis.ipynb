{
 "cells": [
  {
   "cell_type": "code",
   "execution_count": 3,
   "metadata": {},
   "outputs": [
    {
     "name": "stdout",
     "output_type": "stream",
     "text": [
      "First article entity order occurrences:\n",
      "('RECEIPT_ITEM', 'RECEIPT_ITEM_NAME', 'RECEIPT_ITEM_PRICE'): 29\n",
      "('RECEIPT_ITEM', 'RECEIPT_ITEM_QUANTITY', 'RECEIPT_ITEM_NAME', 'RECEIPT_ITEM_PRICE'): 51\n",
      "('RECEIPT_ITEM', 'RECEIPT_ITEM_NAME'): 1\n",
      "('RECEIPT_ITEM', 'RECEIPT_ITEM_QUANTITY', 'RECEIPT_ITEM_NAME'): 1\n",
      "('RECEIPT_ITEM', 'RECEIPT_ITEM_QUANTITY', 'RECEIPT_ITEM_NAME', 'RECEIPT_ITEM_PRICE', 'RECEIPT_ITEM_PRICE'): 1\n"
     ]
    }
   ],
   "source": [
    "import json\n",
    "from collections import defaultdict\n",
    "\n",
    "def extract_first_article_entity_order(receipt):\n",
    "    \"\"\"\n",
    "    Extracts the order of entities for only the first 'RECEIPT_ITEM' in the receipt.\n",
    "    \"\"\"\n",
    "    receipt_order = []\n",
    "    receipt_items = []\n",
    "\n",
    "    # Process each entity\n",
    "    for entity in receipt[\"entities\"]:\n",
    "        entity_type = entity[2]\n",
    "        \n",
    "        if entity_type == \"RECEIPT_ITEM\":\n",
    "            # Only process the first RECEIPT_ITEM, so break once we encounter it\n",
    "            if receipt_items:\n",
    "                break  # We stop processing further items as we already processed the first item\n",
    "            receipt_items = [entity_type]  # Start the first item list\n",
    "        else:\n",
    "            receipt_items.append(entity_type)  # Add entity type to the first item\n",
    "\n",
    "    # If the first item is found, return its structure as a tuple\n",
    "    if receipt_items:\n",
    "        return tuple(receipt_items)\n",
    "    return None  # If no items are found, return None\n",
    "\n",
    "def analyze_receipts(json_data):\n",
    "    \"\"\"\n",
    "    Analyzes all receipts and counts the occurrences of entity sequences for the first item in each receipt.\n",
    "    \"\"\"\n",
    "    receipt_order_count = defaultdict(int)  # To count occurrences of first item entity sequences\n",
    "\n",
    "    # Process each receipt\n",
    "    for receipt in json_data:\n",
    "        receipt_order = extract_first_article_entity_order(receipt)\n",
    "        if receipt_order:\n",
    "            receipt_order_count[receipt_order] += 1\n",
    "\n",
    "    return receipt_order_count\n",
    "\n",
    "def main():\n",
    "    # Read the JSON data from a file\n",
    "    try:\n",
    "        with open('ner-swiss-receipts.json', 'r') as file:\n",
    "            json_data = json.load(file)\n",
    "    except FileNotFoundError:\n",
    "        print(\"The file was not found. Please check the file path and name.\")\n",
    "        return\n",
    "    except json.JSONDecodeError:\n",
    "        print(\"The file contains invalid JSON. Please check the file content.\")\n",
    "        return\n",
    "\n",
    "    # Analyze the receipts\n",
    "    receipt_order_count = analyze_receipts(json_data)\n",
    "\n",
    "    # Print the results\n",
    "    print(\"First article entity order occurrences:\")\n",
    "    for receipt_order, count in receipt_order_count.items():\n",
    "        print(f\"{receipt_order}: {count}\")\n",
    "\n",
    "if __name__ == \"__main__\":\n",
    "    main()"
   ]
  }
 ],
 "metadata": {
  "kernelspec": {
   "display_name": "Python 3",
   "language": "python",
   "name": "python3"
  },
  "language_info": {
   "codemirror_mode": {
    "name": "ipython",
    "version": 3
   },
   "file_extension": ".py",
   "mimetype": "text/x-python",
   "name": "python",
   "nbconvert_exporter": "python",
   "pygments_lexer": "ipython3",
   "version": "3.13.0"
  }
 },
 "nbformat": 4,
 "nbformat_minor": 2
}
