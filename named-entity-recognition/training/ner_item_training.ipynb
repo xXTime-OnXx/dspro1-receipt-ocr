{
 "cells": [
  {
   "cell_type": "markdown",
   "metadata": {},
   "source": [
    "## Imports"
   ]
  },
  {
   "cell_type": "code",
   "execution_count": 83,
   "metadata": {},
   "outputs": [],
   "source": [
    "import os\n",
    "\n",
    "import spacy\n",
    "import random\n",
    "import json\n",
    "import numpy as np\n",
    "import matplotlib.pyplot as plt\n",
    "import seaborn as sns\n",
    "\n",
    "from sklearn.model_selection import train_test_split\n",
    "from spacy.training.example import Example"
   ]
  },
  {
   "cell_type": "code",
   "execution_count": 84,
   "metadata": {},
   "outputs": [],
   "source": [
    "TRAIN_DATA_PATH = os.path.abspath(\"../../data/datasets/ner-swiss-receipts.json\")  # Path to your training data file\n",
    "TEST_DATA_PATH = os.path.abspath(\"../../data/datasets/ner-swiss-receipts.json\")  # Path to your testing data file\n",
    "OUTPUT_DIR = os.path.abspath(\"../models/receipts-ner-v02\")  # TODO: make sure to use a new version\n",
    "ITERATIONS = 30  # Number of training iterations\n",
    "BATCH_SIZE = 8  # Batch size for training\n",
    "DROPOUT = 0.5  # Dropout rate"
   ]
  },
  {
   "cell_type": "markdown",
   "metadata": {},
   "source": [
    "## Preprocessing"
   ]
  },
  {
   "cell_type": "markdown",
   "metadata": {},
   "source": [
    "### Load Dataset"
   ]
  },
  {
   "cell_type": "code",
   "execution_count": 106,
   "metadata": {},
   "outputs": [],
   "source": [
    "with open(TRAIN_DATA_PATH, \"r\", encoding=\"utf-8\") as file:\n",
    "    train_dataset = json.load(file)"
   ]
  },
  {
   "cell_type": "markdown",
   "metadata": {},
   "source": [
    "### Reformat for Spacy & Remove unwanted Entities"
   ]
  },
  {
   "cell_type": "code",
   "execution_count": 107,
   "metadata": {},
   "outputs": [],
   "source": [
    "train_data = []\n",
    "for entry in train_dataset:\n",
    "    text = entry[\"text\"]\n",
    "    entities = [entity for entity in entry[\"entities\"] if entity[2] == 'RECEIPT_ITEM']\n",
    "    train_data.append((text, {\"entities\": entities}))"
   ]
  },
  {
   "cell_type": "code",
   "execution_count": 108,
   "metadata": {},
   "outputs": [
    {
     "name": "stdout",
     "output_type": "stream",
     "text": [
      "Sample Training Data:\n",
      "-----------------------------------------\n",
      "HAMNUGLU GmbH\n",
      "HERTENSTEIN\n",
      "\n",
      "Hertensteinstrasse 32\n",
      "\n",
      "6004 Luzern\n",
      "\n",
      "Tel 041 419 71 51\n",
      "RER\n",
      "\n",
      "#CS0 Rechnungsnummer: 36 POSEJ Order: el\n",
      "KASSE 32- 2071272024 14:23:55\n",
      "\n",
      "ANZ ARTIKEL GESAMT \"\n",
      "1MeChicken 6.90 M\n",
      "ı MM 9 McNuggets f 15.800. Ep\n",
      "19 Nucpets 2\n",
      "1 Cocktail Sauce\n",
      "\n",
      ". 1 Potatoes Sauce\n",
      "1 Hen ohne Ksäure 0.5 2\n",
      "1 Medium Pommes Frite ed\n",
      "1 Cocktail Sauce en\n",
      "\n",
      "Subtotal 2.10 u\n",
      "Discount: i -1.30 Be\n",
      "INNEN TOTAL 21.40 wo\n",
      "VISA 210 0\n",
      "\n",
      "st.Nr. CHE - 449.055.085 MWST ] 0\n",
      "SATZ BRUTTO MWST.\n",
      "incl. MWST  8.10 21.40 1.60\n",
      "\n",
      " Kundenbeleg\n",
      "\n",
      "Buchung\n",
      ". Visa payWave contact less\n",
      "\n",
      "4323 22XX XXXX 1361\n",
      "\n",
      "20.12.2024 14:23:41\n",
      "u Trm-Id: 10138349\n",
      "AID: 40000000031010\n",
      "Irx. Seg-Cnt: Mo\n",
      "\n",
      "..... Trx. Ref-No: .\n",
      "\n",
      "Auth, Code:\n",
      "\n",
      "-----------------------------------------\n",
      "Entity-Type: RECEIPT_ITEM, Entity text: 1MeChicken 6.90 M\n",
      "Entity-Type: RECEIPT_ITEM, Entity text: ı MM 9 McNuggets f 15.800. Ep\n"
     ]
    }
   ],
   "source": [
    "print(\"Sample Training Data:\")\n",
    "sample_text, sample_annotaiton = train_data[0]\n",
    "print(\"-----------------------------------------\")\n",
    "print(sample_text)\n",
    "print(\"-----------------------------------------\")\n",
    "for ent in sample_annotaiton.get(\"entities\"):\n",
    "    print(f'Entity-Type: {ent[2]}, Entity text: {sample_text[ent[0]:ent[1]]}')"
   ]
  },
  {
   "cell_type": "markdown",
   "metadata": {},
   "source": [
    "## Model Definition"
   ]
  },
  {
   "cell_type": "markdown",
   "metadata": {},
   "source": [
    "Load an emtpy spacy model for specific language"
   ]
  },
  {
   "cell_type": "code",
   "execution_count": 90,
   "metadata": {},
   "outputs": [],
   "source": [
    "# For a blank model, or replace with spacy.load(\"en_core_web_sm\")\n",
    "nlp = spacy.blank(\"de\")"
   ]
  },
  {
   "cell_type": "markdown",
   "metadata": {},
   "source": [
    "### Add Named-Entity Recognition Component"
   ]
  },
  {
   "cell_type": "code",
   "execution_count": 91,
   "metadata": {},
   "outputs": [],
   "source": [
    "if \"ner\" not in nlp.pipe_names:\n",
    "    ner = nlp.add_pipe(\"ner\", last=True)\n",
    "else:\n",
    "    ner = nlp.get_pipe(\"ner\")"
   ]
  },
  {
   "cell_type": "markdown",
   "metadata": {},
   "source": [
    "### Add Labels to Model"
   ]
  },
  {
   "cell_type": "code",
   "execution_count": 92,
   "metadata": {},
   "outputs": [],
   "source": [
    "for _, annotations in train_data:\n",
    "    for ent in annotations.get(\"entities\"):\n",
    "        ner.add_label(ent[2])"
   ]
  },
  {
   "cell_type": "markdown",
   "metadata": {},
   "source": [
    "### Spacy Examples"
   ]
  },
  {
   "cell_type": "code",
   "execution_count": 93,
   "metadata": {},
   "outputs": [
    {
     "name": "stderr",
     "output_type": "stream",
     "text": [
      "/Users/timon/.pyenv/versions/3.10.16/envs/dspro/lib/python3.10/site-packages/spacy/training/iob_utils.py:149: UserWarning: [W030] Some entities could not be aligned in the text \"mi rolino idee MIGROL\n",
      "\n",
      "Migrol Service\n",
      "Überriauerst...\" with entities \"[[255, 282, 'RECEIPT_ITEM'], [283, 306, 'RECEIPT_I...\". Use `spacy.training.offsets_to_biluo_tags(nlp.make_doc(text), entities)` to check the alignment. Misaligned entities ('-') will be ignored during training.\n",
      "  warnings.warn(\n",
      "/Users/timon/.pyenv/versions/3.10.16/envs/dspro/lib/python3.10/site-packages/spacy/training/iob_utils.py:149: UserWarning: [W030] Some entities could not be aligned in the text \"AUS\n",
      "FREUDE\n",
      "AM\n",
      "GESCHMACK\n",
      "\n",
      "Macchi AG Bäckerei\n",
      "Überna...\" with entities \"[[213, 234, 'RECEIPT_ITEM'], [235, 267, 'RECEIPT_I...\". Use `spacy.training.offsets_to_biluo_tags(nlp.make_doc(text), entities)` to check the alignment. Misaligned entities ('-') will be ignored during training.\n",
      "  warnings.warn(\n"
     ]
    }
   ],
   "source": [
    "examples = [\n",
    "    Example.from_dict(nlp.make_doc(text), annotations) for text, annotations in train_data\n",
    "]"
   ]
  },
  {
   "cell_type": "markdown",
   "metadata": {},
   "source": [
    "### Training"
   ]
  },
  {
   "cell_type": "code",
   "execution_count": 94,
   "metadata": {},
   "outputs": [
    {
     "name": "stdout",
     "output_type": "stream",
     "text": [
      "Starting training...\n",
      "Epoch 1/30, Loss: 5432.7920\n",
      "Epoch 2/30, Loss: 1511.3059\n",
      "Epoch 3/30, Loss: 891.8314\n",
      "Epoch 4/30, Loss: 1316.4863\n",
      "Epoch 5/30, Loss: 668.6835\n",
      "Epoch 6/30, Loss: 714.7592\n",
      "Epoch 7/30, Loss: 652.6051\n",
      "Epoch 8/30, Loss: 634.9566\n",
      "Epoch 9/30, Loss: 460.3464\n",
      "Epoch 10/30, Loss: 389.5119\n",
      "Epoch 11/30, Loss: 339.2582\n",
      "Epoch 12/30, Loss: 286.5053\n",
      "Epoch 13/30, Loss: 258.8651\n",
      "Epoch 14/30, Loss: 271.9643\n",
      "Epoch 15/30, Loss: 233.1103\n",
      "Epoch 16/30, Loss: 201.2882\n",
      "Epoch 17/30, Loss: 217.1197\n",
      "Epoch 18/30, Loss: 162.9045\n",
      "Epoch 19/30, Loss: 166.9204\n",
      "Epoch 20/30, Loss: 154.9951\n",
      "Epoch 21/30, Loss: 144.8921\n",
      "Epoch 22/30, Loss: 121.7285\n",
      "Epoch 23/30, Loss: 101.3912\n",
      "Epoch 24/30, Loss: 113.0410\n",
      "Epoch 25/30, Loss: 100.0297\n",
      "Epoch 26/30, Loss: 93.2699\n",
      "Epoch 27/30, Loss: 79.7995\n",
      "Epoch 28/30, Loss: 82.5662\n",
      "Epoch 29/30, Loss: 95.2030\n",
      "Epoch 30/30, Loss: 69.4287\n"
     ]
    }
   ],
   "source": [
    "# Disable other pipes during training for efficiency\n",
    "other_pipes = [pipe for pipe in nlp.pipe_names if pipe != \"ner\"]\n",
    "with nlp.disable_pipes(*other_pipes):\n",
    "    optimizer = nlp.begin_training()\n",
    "        \n",
    "    # Training loop\n",
    "    print(\"Starting training...\")\n",
    "    for epoch in range(ITERATIONS):\n",
    "        random.shuffle(examples)\n",
    "        losses = {}\n",
    "        for batch in spacy.util.minibatch(examples, size=BATCH_SIZE):\n",
    "            nlp.update(batch, drop=DROPOUT, losses=losses)\n",
    "        print(f\"Epoch {epoch + 1}/{ITERATIONS}, Loss: {losses['ner']:.4f}\")"
   ]
  },
  {
   "cell_type": "markdown",
   "metadata": {},
   "source": [
    "### Save Model"
   ]
  },
  {
   "cell_type": "code",
   "execution_count": 95,
   "metadata": {},
   "outputs": [
    {
     "name": "stdout",
     "output_type": "stream",
     "text": [
      "Saving model to /Users/timon/git/dspro1-receipt-ocr/named-entity-recognition/models/receipts-ner-v02...\n"
     ]
    }
   ],
   "source": [
    "# Save the trained model\n",
    "print(f\"Saving model to {OUTPUT_DIR}...\")\n",
    "nlp.to_disk(OUTPUT_DIR)"
   ]
  },
  {
   "cell_type": "markdown",
   "metadata": {},
   "source": [
    "## Evaluation"
   ]
  },
  {
   "cell_type": "code",
   "execution_count": 101,
   "metadata": {},
   "outputs": [],
   "source": [
    "with open(TEST_DATA_PATH, \"r\", encoding=\"utf-8\") as file:\n",
    "    test_dataset = json.load(file)"
   ]
  },
  {
   "cell_type": "code",
   "execution_count": 102,
   "metadata": {},
   "outputs": [],
   "source": [
    "test_data = []\n",
    "for entry in test_dataset:\n",
    "    text = entry[\"text\"]\n",
    "    entities = [entity for entity in entry[\"entities\"] if entity[2] == 'RECEIPT_ITEM']\n",
    "    test_data.append((text, {\"entities\": entities}))"
   ]
  },
  {
   "cell_type": "code",
   "execution_count": 103,
   "metadata": {},
   "outputs": [],
   "source": [
    "def print_confusion_matrix(matrix, labels):\n",
    "    \"\"\"\n",
    "    Prints a confusion matrix as a formatted string.\n",
    "\n",
    "    Args:\n",
    "        matrix (list of list of int): Confusion matrix as a 2D list.\n",
    "        labels (list of str): Labels for the matrix.\n",
    "    \"\"\"\n",
    "    max_label_length = max(len(label) for label in labels)\n",
    "    padding = max_label_length + 2\n",
    "\n",
    "    # Print header\n",
    "    header = \" \" * padding + \" \".join(f\"{label:>{padding}}\" for label in labels)\n",
    "    print(f'{\"\":<15} Predicted Values')\n",
    "    print(header)\n",
    "\n",
    "    # Print each row\n",
    "    for label, row in zip(labels, matrix):\n",
    "        row_str = \" \".join(f\"{cell:>{padding}}\" for cell in row)\n",
    "        print(f\"{label:>{padding}} {row_str}\")"
   ]
  },
  {
   "cell_type": "code",
   "execution_count": 104,
   "metadata": {},
   "outputs": [
    {
     "name": "stdout",
     "output_type": "stream",
     "text": [
      "Confusion Matrix:\n",
      "                Predicted Values\n",
      "                Entity   No Entity\n",
      "     Entity          59           4\n",
      "  No Entity           6           0\n",
      "\n",
      "Performance Measures:\n",
      "Precision: 0.9076923076923077\n",
      "Recall: 0.9365079365079365\n",
      "F1 Score: 0.9218749999999999\n"
     ]
    }
   ],
   "source": [
    "true_positive = []\n",
    "false_positive = []\n",
    "false_negative = []\n",
    "\n",
    "index = 0\n",
    "\n",
    "for text, annotations in test_data:\n",
    "    # Process the text\n",
    "    doc = nlp(text)\n",
    "    \n",
    "    # Prepare expected values (y)\n",
    "    expected_entities = []\n",
    "    for ent in annotations.get(\"entities\"):    \n",
    "        if ent[2] == 'RECEIPT_ITEM':\n",
    "            expected_entities.append(text[ent[0]:ent[1]])\n",
    "\n",
    "    # Print recognized entities\n",
    "    for ent in doc.ents:\n",
    "        if ent.text in expected_entities:\n",
    "            true_positive.append(ent.text)\n",
    "            expected_entities.remove(ent.text)\n",
    "        else:\n",
    "            false_positive.append(ent.text)\n",
    "            \n",
    "    false_negative.extend(expected_entities)\n",
    "    \n",
    "# Example usage\n",
    "labels = [\"Entity\", \"No Entity\"]\n",
    "confusion_matrix = [\n",
    "    [len(true_positive), len(false_negative)],\n",
    "    [len(false_positive), 0],\n",
    "]\n",
    "\n",
    "print('Confusion Matrix:')\n",
    "print_confusion_matrix(confusion_matrix, labels)\n",
    "\n",
    "print('\\nPerformance Measures:')\n",
    "precision = len(true_positive) / (len(true_positive) + len(false_positive))\n",
    "recall = len(true_positive) / (len(true_positive) + len(false_negative))\n",
    "f1_score = 2 * precision * recall / (precision + recall)\n",
    "print('Precision: ' + str(precision))\n",
    "print('Recall: ' + str(recall))\n",
    "print('F1 Score: ' + str(f1_score))\n",
    "\n",
    "# True-Positive = correct idetified entities\n",
    "# false_positive = actual entity that was not identified\n",
    "# False-negative = identified entity that is actually not a entity"
   ]
  },
  {
   "cell_type": "code",
   "execution_count": 105,
   "metadata": {},
   "outputs": [
    {
     "data": {
      "image/png": "[encoded data removed]",
      "text/plain": [
       "<Figure size 600x500 with 2 Axes>"
      ]
     },
     "metadata": {},
     "output_type": "display_data"
    }
   ],
   "source": [
    "labels = ['Positive', 'Negative']\n",
    "plt.figure(figsize=(6, 5))\n",
    "sns.heatmap(\n",
    "    confusion_matrix, \n",
    "    annot=True, \n",
    "    fmt=\"d\", \n",
    "    cmap=\"Blues\", \n",
    "    xticklabels=labels, \n",
    "    yticklabels=labels\n",
    ")\n",
    "\n",
    "# Add axis labels and title\n",
    "plt.xlabel(\"Predicted Labels\")\n",
    "plt.ylabel(\"True Labels\")\n",
    "plt.title(\"Confusion Matrix\")\n",
    "plt.show()\n",
    "\n"
   ]
  }
 ],
 "metadata": {
  "kernelspec": {
   "display_name": "dspro",
   "language": "python",
   "name": "python3"
  },
  "language_info": {
   "codemirror_mode": {
    "name": "ipython",
    "version": 3
   },
   "file_extension": ".py",
   "mimetype": "text/x-python",
   "name": "python",
   "nbconvert_exporter": "python",
   "pygments_lexer": "ipython3",
   "version": "3.10.16"
  }
 },
 "nbformat": 4,
 "nbformat_minor": 2
}
