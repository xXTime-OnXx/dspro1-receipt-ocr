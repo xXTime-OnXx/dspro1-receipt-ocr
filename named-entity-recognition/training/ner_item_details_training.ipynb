{
 "cells": [
  {
   "cell_type": "markdown",
   "metadata": {},
   "source": [
    "## Imports"
   ]
  },
  {
   "cell_type": "code",
   "execution_count": 24,
   "metadata": {},
   "outputs": [],
   "source": [
    "import os\n",
    "\n",
    "import spacy\n",
    "from spacy import displacy\n",
    "\n",
    "import random\n",
    "import json\n",
    "import numpy as np\n",
    "\n",
    "from sklearn.model_selection import train_test_split\n",
    "from spacy.training.example import Example"
   ]
  },
  {
   "cell_type": "code",
   "execution_count": 2,
   "metadata": {},
   "outputs": [],
   "source": [
    "DATA_PATH = os.path.abspath(\"../../data/datasets/ner-swiss-receipts.json\")  # Path to your training data file\n",
    "OUTPUT_DIR = os.path.abspath(\"../models/receipt-item-details-ner-v01\")  # TODO: make sure to use a new version\n",
    "ITERATIONS = 30  # Number of training iterations\n",
    "BATCH_SIZE = 8  # Batch size for training\n",
    "DROPOUT = 0.5  # Dropout rate"
   ]
  },
  {
   "cell_type": "markdown",
   "metadata": {},
   "source": [
    "## Preprocessing"
   ]
  },
  {
   "cell_type": "markdown",
   "metadata": {},
   "source": [
    "### Load Dataset"
   ]
  },
  {
   "cell_type": "code",
   "execution_count": 3,
   "metadata": {},
   "outputs": [],
   "source": [
    "with open(DATA_PATH, \"r\", encoding=\"utf-8\") as file:\n",
    "    dataset = json.load(file)"
   ]
  },
  {
   "cell_type": "markdown",
   "metadata": {},
   "source": [
    "### Reformat for Spacy & Remove unwanted Entities"
   ]
  },
  {
   "cell_type": "code",
   "execution_count": 4,
   "metadata": {},
   "outputs": [],
   "source": [
    "data = []\n",
    "for entry in dataset:\n",
    "    text = entry[\"text\"]\n",
    "    entities = [entity for entity in entry[\"entities\"] if entity[2] != 'RECEIPT_ITEM']\n",
    "    data.append((text, {\"entities\": entities}))"
   ]
  },
  {
   "cell_type": "markdown",
   "metadata": {},
   "source": [
    "### Split Data into Train & Test"
   ]
  },
  {
   "cell_type": "code",
   "execution_count": 5,
   "metadata": {},
   "outputs": [],
   "source": [
    "train, test = train_test_split(data, test_size=0.1)"
   ]
  },
  {
   "cell_type": "code",
   "execution_count": 6,
   "metadata": {},
   "outputs": [
    {
     "name": "stdout",
     "output_type": "stream",
     "text": [
      "Sample Training Data:\n",
      "-----------------------------------------\n",
      "jez MIGROL\n",
      "\n",
      "MIGROL Service Roos AG\n",
      "Migro] Service\n",
      "Beat Roos\n",
      "Zeughausstrasse 38\n",
      "b210 Sursee\n",
      "Tel. 041 921 72 07\n",
      "\n",
      "RECHNUNG 73995#\n",
      "ERSTES TERSTETELSETELETSSETLETELTFETTERTET ET RE\n",
      "Premiumpf lege -, 23.006\n",
      "\n",
      "Unterboden prle ege: 3 ‚00 C\n",
      "\n",
      "an\n",
      "\n",
      "pr .. er .\n",
      "re ie en a EN rn nn re\n",
      "\n",
      "SUMME CHF 26. \"00\n",
      "Rar So .00\n",
      "\n",
      "Wechselgeld -24.00\n",
      "\n",
      "Netto Brutto\n",
      "1.70 24.14 1. 26.00 C\n",
      "\n",
      "CHE-391.003.927 MWST (6)\n",
      "MIGROL Service Roos AG\n",
      "Zeughausstrasse 36\n",
      "\n",
      "6210 Sursee\n",
      "\n",
      "u a hr tn men nn ee en a A an A Se m\n",
      "\n",
      "CUMULUS zsgeozıasan\n",
      "\n",
      "u me am an mn a u ar ea Hr 0 mn U An Tu u A En A\n",
      "\n",
      "Besten Dank und\n",
      "gute Fahrt\n",
      "\n",
      "Es bediente Sie Dominik Jakob\n",
      "\n",
      "\n",
      "-----------------------------------------\n",
      "Entity-Type: RECEIPT_ITEM_NAME, Entity text: Premiumpf lege\n",
      "Entity-Type: RECEIPT_ITEM_PRICE, Entity text: 23.00\n",
      "Entity-Type: RECEIPT_ITEM_NAME, Entity text: Unterboden prle ege\n",
      "Entity-Type: RECEIPT_ITEM_PRICE, Entity text: 3 ‚00\n"
     ]
    }
   ],
   "source": [
    "print(\"Sample Training Data:\")\n",
    "sample_text, sample_annotaiton = train[0]\n",
    "print(\"-----------------------------------------\")\n",
    "print(sample_text)\n",
    "print(\"-----------------------------------------\")\n",
    "for ent in sample_annotaiton.get(\"entities\"):\n",
    "    print(f'Entity-Type: {ent[2]}, Entity text: {sample_text[ent[0]:ent[1]]}')"
   ]
  },
  {
   "cell_type": "markdown",
   "metadata": {},
   "source": [
    "## Model Definition"
   ]
  },
  {
   "cell_type": "markdown",
   "metadata": {},
   "source": [
    "Load an emtpy spacy model for specific language"
   ]
  },
  {
   "cell_type": "code",
   "execution_count": 7,
   "metadata": {},
   "outputs": [],
   "source": [
    "# For a blank model, or replace with spacy.load(\"en_core_web_sm\")\n",
    "nlp = spacy.blank(\"de\")"
   ]
  },
  {
   "cell_type": "markdown",
   "metadata": {},
   "source": [
    "### Add Named-Entity Recognition Component"
   ]
  },
  {
   "cell_type": "code",
   "execution_count": 8,
   "metadata": {},
   "outputs": [],
   "source": [
    "if \"ner\" not in nlp.pipe_names:\n",
    "    ner = nlp.add_pipe(\"ner\", last=True)\n",
    "else:\n",
    "    ner = nlp.get_pipe(\"ner\")"
   ]
  },
  {
   "cell_type": "markdown",
   "metadata": {},
   "source": [
    "### Add Labels to Model"
   ]
  },
  {
   "cell_type": "code",
   "execution_count": 9,
   "metadata": {},
   "outputs": [],
   "source": [
    "for _, annotations in train:\n",
    "    for ent in annotations.get(\"entities\"):\n",
    "        ner.add_label(ent[2])"
   ]
  },
  {
   "cell_type": "markdown",
   "metadata": {},
   "source": [
    "### Spacy Examples"
   ]
  },
  {
   "cell_type": "code",
   "execution_count": 10,
   "metadata": {},
   "outputs": [
    {
     "name": "stdout",
     "output_type": "stream",
     "text": [
      "!!ERROR!![E103] Trying to set conflicting doc.ents: '(286, 287, 'RECEIPT_ITEM_QUANTITY')' and '(286, 290, 'RECEIPT_ITEM_PRICE')'. A token can only be part of one entity, so make sure the entities you're setting don't overlap. To work with overlapping entities, consider using doc.spans instead.\n",
      "!!ERROR!![E103] Trying to set conflicting doc.ents: '(254, 255, 'RECEIPT_ITEM_QUANTITY')' and '(254, 258, 'RECEIPT_ITEM_PRICE')'. A token can only be part of one entity, so make sure the entities you're setting don't overlap. To work with overlapping entities, consider using doc.spans instead.\n"
     ]
    },
    {
     "name": "stderr",
     "output_type": "stream",
     "text": [
      "/Users/timon/.pyenv/versions/3.10.16/envs/dspro/lib/python3.10/site-packages/spacy/training/iob_utils.py:149: UserWarning: [W030] Some entities could not be aligned in the text \"jez MIGROL\n",
      "\n",
      "MIGROL Service Roos AG\n",
      "Migro] Service\n",
      "...\" with entities \"[[176, 190, 'RECEIPT_ITEM_NAME'], [194, 199, 'RECE...\". Use `spacy.training.offsets_to_biluo_tags(nlp.make_doc(text), entities)` to check the alignment. Misaligned entities ('-') will be ignored during training.\n",
      "  warnings.warn(\n",
      "/Users/timon/.pyenv/versions/3.10.16/envs/dspro/lib/python3.10/site-packages/spacy/training/iob_utils.py:149: UserWarning: [W030] Some entities could not be aligned in the text \"GLOBUS\n",
      "\n",
      "Magazine zum Globus AG\n",
      "Pilatusstrasse 4, 6...\" with entities \"[[177, 193, 'RECEIPT_ITEM_NAME'], [195, 200, 'RECE...\". Use `spacy.training.offsets_to_biluo_tags(nlp.make_doc(text), entities)` to check the alignment. Misaligned entities ('-') will be ignored during training.\n",
      "  warnings.warn(\n",
      "/Users/timon/.pyenv/versions/3.10.16/envs/dspro/lib/python3.10/site-packages/spacy/training/iob_utils.py:149: UserWarning: [W030] Some entities could not be aligned in the text \"Qlun‘l Y\n",
      "‘ £y , L\"“H\n",
      "\n",
      "[Ail f Ur ”\"3h’ﬁf ,\n",
      "“ 1 ‚ 44...\" with entities \"[[284, 285, 'RECEIPT_ITEM_QUANTITY'], [286, 307, '...\". Use `spacy.training.offsets_to_biluo_tags(nlp.make_doc(text), entities)` to check the alignment. Misaligned entities ('-') will be ignored during training.\n",
      "  warnings.warn(\n",
      "/Users/timon/.pyenv/versions/3.10.16/envs/dspro/lib/python3.10/site-packages/spacy/training/iob_utils.py:149: UserWarning: [W030] Some entities could not be aligned in the text \"kestaurant Lio\n",
      "\n",
      "Poststrasse 2 9494 Schaan\n",
      "\n",
      "Rechnun...\" with entities \"[[156, 158, 'RECEIPT_ITEM_QUANTITY'], [159, 175, '...\". Use `spacy.training.offsets_to_biluo_tags(nlp.make_doc(text), entities)` to check the alignment. Misaligned entities ('-') will be ignored during training.\n",
      "  warnings.warn(\n",
      "/Users/timon/.pyenv/versions/3.10.16/envs/dspro/lib/python3.10/site-packages/spacy/training/iob_utils.py:149: UserWarning: [W030] Some entities could not be aligned in the text \"mi rolino idee MIGROL\n",
      "\n",
      "Migrol Service\n",
      "Überriauerst...\" with entities \"[[255, 270, 'RECEIPT_ITEM_NAME'], [276, 280, 'RECE...\". Use `spacy.training.offsets_to_biluo_tags(nlp.make_doc(text), entities)` to check the alignment. Misaligned entities ('-') will be ignored during training.\n",
      "  warnings.warn(\n",
      "/Users/timon/.pyenv/versions/3.10.16/envs/dspro/lib/python3.10/site-packages/spacy/training/iob_utils.py:149: UserWarning: [W030] Some entities could not be aligned in the text \"AUS\n",
      "FREUDE\n",
      "AM\n",
      "GESCHMACK\n",
      "\n",
      "Macchi AG Bäckerei\n",
      "Überna...\" with entities \"[[213, 214, 'RECEIPT_ITEM_QUANTITY'], [215, 221, '...\". Use `spacy.training.offsets_to_biluo_tags(nlp.make_doc(text), entities)` to check the alignment. Misaligned entities ('-') will be ignored during training.\n",
      "  warnings.warn(\n",
      "/Users/timon/.pyenv/versions/3.10.16/envs/dspro/lib/python3.10/site-packages/spacy/training/iob_utils.py:149: UserWarning: [W030] Some entities could not be aligned in the text \"Restaurant - Pizzeria\n",
      "Panorama\n",
      "Rüeggisingerstrasse...\" with entities \"[[177, 178, 'RECEIPT_ITEM_QUANTITY'], [179, 185, '...\". Use `spacy.training.offsets_to_biluo_tags(nlp.make_doc(text), entities)` to check the alignment. Misaligned entities ('-') will be ignored during training.\n",
      "  warnings.warn(\n",
      "/Users/timon/.pyenv/versions/3.10.16/envs/dspro/lib/python3.10/site-packages/spacy/training/iob_utils.py:149: UserWarning: [W030] Some entities could not be aligned in the text \"BERSHKA\n",
      "\n",
      "CHE-100.6492.311 TVvA\n",
      "ITX Retail Suisse S...\" with entities \"[[217, 218, 'RECEIPT_ITEM_QUANTITY'], [259, 267, '...\". Use `spacy.training.offsets_to_biluo_tags(nlp.make_doc(text), entities)` to check the alignment. Misaligned entities ('-') will be ignored during training.\n",
      "  warnings.warn(\n",
      "/Users/timon/.pyenv/versions/3.10.16/envs/dspro/lib/python3.10/site-packages/spacy/training/iob_utils.py:149: UserWarning: [W030] Some entities could not be aligned in the text \"an,\n",
      "\n",
      "Hormatt\n",
      "RISTORANTE PIZZERIA\n",
      "\n",
      "Hofmattweg 6 CH-...\" with entities \"[[213, 214, 'RECEIPT_ITEM_QUANTITY'], [215, 221, '...\". Use `spacy.training.offsets_to_biluo_tags(nlp.make_doc(text), entities)` to check the alignment. Misaligned entities ('-') will be ignored during training.\n",
      "  warnings.warn(\n",
      "/Users/timon/.pyenv/versions/3.10.16/envs/dspro/lib/python3.10/site-packages/spacy/training/iob_utils.py:149: UserWarning: [W030] Some entities could not be aligned in the text \"Alpwirtschaft\n",
      "57\" Unterlauelen.ch\n",
      "\n",
      "a Fed Fe\n",
      "\n",
      "NATIR...\" with entities \"[[261, 262, 'RECEIPT_ITEM_QUANTITY'], [263, 280, '...\". Use `spacy.training.offsets_to_biluo_tags(nlp.make_doc(text), entities)` to check the alignment. Misaligned entities ('-') will be ignored during training.\n",
      "  warnings.warn(\n",
      "/Users/timon/.pyenv/versions/3.10.16/envs/dspro/lib/python3.10/site-packages/spacy/training/iob_utils.py:149: UserWarning: [W030] Some entities could not be aligned in the text \"Belvedere\n",
      "\n",
      "— Seerestaurant ———-\n",
      "\n",
      "Rechnung 54777 21...\" with entities \"[[85, 86, 'RECEIPT_ITEM_QUANTITY'], [87, 96, 'RECE...\". Use `spacy.training.offsets_to_biluo_tags(nlp.make_doc(text), entities)` to check the alignment. Misaligned entities ('-') will be ignored during training.\n",
      "  warnings.warn(\n",
      "/Users/timon/.pyenv/versions/3.10.16/envs/dspro/lib/python3.10/site-packages/spacy/training/iob_utils.py:149: UserWarning: [W030] Some entities could not be aligned in the text \"‘ BO ie El Sternen AG Willisau\n",
      "21 Bruno Ursula Ach...\" with entities \"[[231, 248, 'RECEIPT_ITEM_NAME'], [254, 258, 'RECE...\". Use `spacy.training.offsets_to_biluo_tags(nlp.make_doc(text), entities)` to check the alignment. Misaligned entities ('-') will be ignored during training.\n",
      "  warnings.warn(\n",
      "/Users/timon/.pyenv/versions/3.10.16/envs/dspro/lib/python3.10/site-packages/spacy/training/iob_utils.py:149: UserWarning: [W030] Some entities could not be aligned in the text \"PULLSBEAR\n",
      "\n",
      "CHE-100.642.31i TVA\n",
      "ITX Retail Suisse S...\" with entities \"[[245, 252, 'RECEIPT_ITEM_NAME'], [214, 219, 'RECE...\". Use `spacy.training.offsets_to_biluo_tags(nlp.make_doc(text), entities)` to check the alignment. Misaligned entities ('-') will be ignored during training.\n",
      "  warnings.warn(\n",
      "/Users/timon/.pyenv/versions/3.10.16/envs/dspro/lib/python3.10/site-packages/spacy/training/iob_utils.py:149: UserWarning: [W030] Some entities could not be aligned in the text \"RISTORANTE PIZZERIA\n",
      "\n",
      "Hofmattweg 6 CH-6010 Kriens\n",
      "T...\" with entities \"[[229, 230, 'RECEIPT_ITEM_QUANTITY'], [231, 243, '...\". Use `spacy.training.offsets_to_biluo_tags(nlp.make_doc(text), entities)` to check the alignment. Misaligned entities ('-') will be ignored during training.\n",
      "  warnings.warn(\n",
      "/Users/timon/.pyenv/versions/3.10.16/envs/dspro/lib/python3.10/site-packages/spacy/training/iob_utils.py:149: UserWarning: [W030] Some entities could not be aligned in the text \"HAMNUGLU GmbH\n",
      "HERTENSTEIN\n",
      "\n",
      "Hertensteinstrasse 32\n",
      "\n",
      "...\" with entities \"[[179, 180, 'RECEIPT_ITEM_QUANTITY'], [180, 189, '...\". Use `spacy.training.offsets_to_biluo_tags(nlp.make_doc(text), entities)` to check the alignment. Misaligned entities ('-') will be ignored during training.\n",
      "  warnings.warn(\n",
      "/Users/timon/.pyenv/versions/3.10.16/envs/dspro/lib/python3.10/site-packages/spacy/training/iob_utils.py:149: UserWarning: [W030] Some entities could not be aligned in the text \".H[\n",
      "\n",
      ";gin X \"3'5‘.u ;sä«; \"Wt ila ßl'u£é\"\n",
      "\n",
      "w f£W“ ...\" with entities \"[[246, 247, 'RECEIPT_ITEM_QUANTITY'], [248, 260, '...\". Use `spacy.training.offsets_to_biluo_tags(nlp.make_doc(text), entities)` to check the alignment. Misaligned entities ('-') will be ignored during training.\n",
      "  warnings.warn(\n",
      "/Users/timon/.pyenv/versions/3.10.16/envs/dspro/lib/python3.10/site-packages/spacy/training/iob_utils.py:149: UserWarning: [W030] Some entities could not be aligned in the text \"DENNER\n",
      "\n",
      "PARTNER\n",
      "\n",
      "Kriens Übernauerstrasse\n",
      "Obernauer...\" with entities \"[[153, 154, 'RECEIPT_ITEM_QUANTITY'], [124, 151, '...\". Use `spacy.training.offsets_to_biluo_tags(nlp.make_doc(text), entities)` to check the alignment. Misaligned entities ('-') will be ignored during training.\n",
      "  warnings.warn(\n",
      "/Users/timon/.pyenv/versions/3.10.16/envs/dspro/lib/python3.10/site-packages/spacy/training/iob_utils.py:149: UserWarning: [W030] Some entities could not be aligned in the text \"Strickerstrasse 3\n",
      "\n",
      "CH 8400 Winterthur\n",
      "\n",
      "Rechnung\n",
      "\n",
      "T...\" with entities \"[[148, 150, 'RECEIPT_ITEM_QUANTITY'], [151, 165, '...\". Use `spacy.training.offsets_to_biluo_tags(nlp.make_doc(text), entities)` to check the alignment. Misaligned entities ('-') will be ignored during training.\n",
      "  warnings.warn(\n",
      "/Users/timon/.pyenv/versions/3.10.16/envs/dspro/lib/python3.10/site-packages/spacy/training/iob_utils.py:149: UserWarning: [W030] Some entities could not be aligned in the text \"WEISSES REUZ\n",
      "\n",
      "SCHWARZENBERG\n",
      "\n",
      "Bettina £ Roman Bachm...\" with entities \"[[205, 222, 'RECEIPT_ITEM_NAME'], [229, 234, 'RECE...\". Use `spacy.training.offsets_to_biluo_tags(nlp.make_doc(text), entities)` to check the alignment. Misaligned entities ('-') will be ignored during training.\n",
      "  warnings.warn(\n"
     ]
    }
   ],
   "source": [
    "examples = []\n",
    "\n",
    "for text, annotations in train:\n",
    "    try:\n",
    "        examples.append(Example.from_dict(nlp.make_doc(text), annotations))\n",
    "    except Exception as e:\n",
    "        print('!!ERROR!!' + str(e))\n",
    "        continue"
   ]
  },
  {
   "cell_type": "markdown",
   "metadata": {},
   "source": [
    "### Training"
   ]
  },
  {
   "cell_type": "code",
   "execution_count": 11,
   "metadata": {},
   "outputs": [
    {
     "name": "stdout",
     "output_type": "stream",
     "text": [
      "Starting training...\n",
      "Epoch 1/30, Loss: 7066.9717\n",
      "Epoch 2/30, Loss: 2531.5986\n",
      "Epoch 3/30, Loss: 1827.1016\n",
      "Epoch 4/30, Loss: 1712.7734\n",
      "Epoch 5/30, Loss: 1611.0862\n",
      "Epoch 6/30, Loss: 1543.3706\n",
      "Epoch 7/30, Loss: 1487.2064\n",
      "Epoch 8/30, Loss: 1456.6031\n",
      "Epoch 9/30, Loss: 1403.0322\n",
      "Epoch 10/30, Loss: 1106.0182\n",
      "Epoch 11/30, Loss: 1002.4337\n",
      "Epoch 12/30, Loss: 943.2146\n",
      "Epoch 13/30, Loss: 897.4747\n",
      "Epoch 14/30, Loss: 882.0396\n",
      "Epoch 15/30, Loss: 824.8223\n",
      "Epoch 16/30, Loss: 799.8843\n",
      "Epoch 17/30, Loss: 744.7394\n",
      "Epoch 18/30, Loss: 701.8192\n",
      "Epoch 19/30, Loss: 662.6771\n",
      "Epoch 20/30, Loss: 667.6395\n",
      "Epoch 21/30, Loss: 601.7375\n",
      "Epoch 22/30, Loss: 585.2615\n",
      "Epoch 23/30, Loss: 516.0106\n",
      "Epoch 24/30, Loss: 500.4705\n",
      "Epoch 25/30, Loss: 457.7902\n",
      "Epoch 26/30, Loss: 449.3677\n",
      "Epoch 27/30, Loss: 430.9229\n",
      "Epoch 28/30, Loss: 403.3849\n",
      "Epoch 29/30, Loss: 383.3532\n",
      "Epoch 30/30, Loss: 366.7635\n"
     ]
    }
   ],
   "source": [
    "# Disable other pipes during training for efficiency\n",
    "other_pipes = [pipe for pipe in nlp.pipe_names if pipe != \"ner\"]\n",
    "with nlp.disable_pipes(*other_pipes):\n",
    "    optimizer = nlp.begin_training()\n",
    "        \n",
    "    # Training loop\n",
    "    print(\"Starting training...\")\n",
    "    for epoch in range(ITERATIONS):\n",
    "        random.shuffle(examples)\n",
    "        losses = {}\n",
    "        for batch in spacy.util.minibatch(examples, size=BATCH_SIZE):\n",
    "            nlp.update(batch, drop=DROPOUT, losses=losses)\n",
    "        print(f\"Epoch {epoch + 1}/{ITERATIONS}, Loss: {losses['ner']:.4f}\")"
   ]
  },
  {
   "cell_type": "markdown",
   "metadata": {},
   "source": [
    "### Save Model"
   ]
  },
  {
   "cell_type": "code",
   "execution_count": 12,
   "metadata": {},
   "outputs": [
    {
     "name": "stdout",
     "output_type": "stream",
     "text": [
      "Saving model to /Users/timon/git/dspro1-receipt-ocr/named-entity-recognition/models/receipt-item-details-ner-v01...\n"
     ]
    }
   ],
   "source": [
    "# Save the trained model\n",
    "print(f\"Saving model to {OUTPUT_DIR}...\")\n",
    "nlp.to_disk(OUTPUT_DIR)"
   ]
  },
  {
   "cell_type": "markdown",
   "metadata": {},
   "source": [
    "## Evaluation"
   ]
  },
  {
   "cell_type": "code",
   "execution_count": 13,
   "metadata": {},
   "outputs": [],
   "source": [
    "def print_confusion_matrix(matrix, labels):\n",
    "    \"\"\"\n",
    "    Prints a confusion matrix as a formatted string.\n",
    "\n",
    "    Args:\n",
    "        matrix (list of list of int): Confusion matrix as a 2D list.\n",
    "        labels (list of str): Labels for the matrix.\n",
    "    \"\"\"\n",
    "    max_label_length = max(len(label) for label in labels)\n",
    "    padding = max_label_length + 2\n",
    "\n",
    "    # Print header\n",
    "    header = \" \" * padding + \" \".join(f\"{label:>{padding}}\" for label in labels)\n",
    "    print(f'{\"\":<15} Predicted Values')\n",
    "    print(header)\n",
    "\n",
    "    # Print each row\n",
    "    for label, row in zip(labels, matrix):\n",
    "        row_str = \" \".join(f\"{cell:>{padding}}\" for cell in row)\n",
    "        print(f\"{label:>{padding}} {row_str}\")"
   ]
  },
  {
   "cell_type": "code",
   "execution_count": 15,
   "metadata": {},
   "outputs": [
    {
     "name": "stdout",
     "output_type": "stream",
     "text": [
      "Confusion Matrix:\n",
      "                Predicted Values\n",
      "                Entity   No Entity\n",
      "     Entity          86          36\n",
      "  No Entity          35           0\n",
      "\n",
      "Performance Measures:\n",
      "Precision: 0.7107438016528925\n",
      "Recall: 0.7049180327868853\n",
      "F1 Score: 0.7078189300411523\n"
     ]
    }
   ],
   "source": [
    "true_positive = []\n",
    "false_positive = []\n",
    "false_negative = []\n",
    "\n",
    "index = 0\n",
    "\n",
    "for text, annotations in test:\n",
    "    # Process the text\n",
    "    doc = nlp(text)\n",
    "    \n",
    "    # Prepare expected values (y)\n",
    "    expected_entities = []\n",
    "    for ent in annotations.get(\"entities\"):    \n",
    "        if ent[2] != 'RECEIPT_ITEM':\n",
    "            expected_entities.append(text[ent[0]:ent[1]])\n",
    "\n",
    "    # Print recognized entities\n",
    "    for ent in doc.ents:\n",
    "        if ent.text in expected_entities:\n",
    "            true_positive.append(ent.text)\n",
    "            expected_entities.remove(ent.text)\n",
    "        else:\n",
    "            false_positive.append(ent.text)\n",
    "            \n",
    "    false_negative.extend(expected_entities)\n",
    "    \n",
    "# Example usage\n",
    "labels = [\"Entity\", \"No Entity\"]\n",
    "confusion_matrix = [\n",
    "    [len(true_positive), len(false_negative)],\n",
    "    [len(false_positive), '0'],\n",
    "]\n",
    "\n",
    "print('Confusion Matrix:')\n",
    "print_confusion_matrix(confusion_matrix, labels)\n",
    "\n",
    "print('\\nPerformance Measures:')\n",
    "precision = len(true_positive) / (len(true_positive) + len(false_positive))\n",
    "recall = len(true_positive) / (len(true_positive) + len(false_negative))\n",
    "f1_score = 2 * precision * recall / (precision + recall)\n",
    "print('Precision: ' + str(precision))\n",
    "print('Recall: ' + str(recall))\n",
    "print('F1 Score: ' + str(f1_score))\n",
    "\n",
    "# True-Positive = correct idetified entities\n",
    "# false_positive = actual entity that was not identified\n",
    "# False-negative = identified entity that is actually not a entity"
   ]
  },
  {
   "cell_type": "code",
   "execution_count": 29,
   "metadata": {},
   "outputs": [
    {
     "data": {
      "text/html": [
       "<span class=\"tex2jax_ignore\"><!DOCTYPE html>\n",
       "<html lang=\"de\">\n",
       "    <head>\n",
       "        <title>displaCy</title>\n",
       "    </head>\n",
       "\n",
       "    <body style=\"font-size: 16px; font-family: -apple-system, BlinkMacSystemFont, 'Segoe UI', Helvetica, Arial, sans-serif, 'Apple Color Emoji', 'Segoe UI Emoji', 'Segoe UI Symbol'; padding: 4rem 2rem; direction: ltr\">\n",
       "<figure style=\"margin-bottom: 6rem\">\n",
       "<div class=\"entities\" style=\"line-height: 2.5; direction: ltr\">r ß t'„.--wg„„„‚ﬁ„ .Aozo-frz.b<br><br>ME TORANIC . PDIZZLRIA<br><br>Mühlenplatz 12<br>CH-6004 Luzern<br><br>E 0n an s un R a W wnr wnnn M A aa a n a n SO O<br>—- nn AD M kn E an<br><br>Rechnung : 27354170 Datum ; 25.06.2021<br>Tisch ; 2370<br><br>Mge Bezeichnung Preis MW<br><br>] Pizza Rucola e grana \n",
       "<mark class=\"entity\" style=\"background: #ddd; padding: 0.45em 0.6em; margin: 0 0.25em; line-height: 1; border-radius: 0.35em;\">\n",
       "    21.00\n",
       "    <span style=\"font-size: 0.8em; font-weight: bold; line-height: 1; border-radius: 0.35em; vertical-align: middle; margin-left: 0.5rem\">RECEIPT_ITEM_PRICE</span>\n",
       "</mark>\n",
       " \n",
       "<mark class=\"entity\" style=\"background: #ddd; padding: 0.45em 0.6em; margin: 0 0.25em; line-height: 1; border-radius: 0.35em;\">\n",
       "    1\n",
       "    <span style=\"font-size: 0.8em; font-weight: bold; line-height: 1; border-radius: 0.35em; vertical-align: middle; margin-left: 0.5rem\">RECEIPT_ITEM_PRICE</span>\n",
       "</mark>\n",
       "<br><br>\n",
       "<mark class=\"entity\" style=\"background: #ddd; padding: 0.45em 0.6em; margin: 0 0.25em; line-height: 1; border-radius: 0.35em;\">\n",
       "    1\n",
       "    <span style=\"font-size: 0.8em; font-weight: bold; line-height: 1; border-radius: 0.35em; vertical-align: middle; margin-left: 0.5rem\">RECEIPT_ITEM_QUANTITY</span>\n",
       "</mark>\n",
       " \n",
       "<mark class=\"entity\" style=\"background: #ddd; padding: 0.45em 0.6em; margin: 0 0.25em; line-height: 1; border-radius: 0.35em;\">\n",
       "    Pizza Diavola\n",
       "    <span style=\"font-size: 0.8em; font-weight: bold; line-height: 1; border-radius: 0.35em; vertical-align: middle; margin-left: 0.5rem\">RECEIPT_ITEM_NAME</span>\n",
       "</mark>\n",
       " \n",
       "<mark class=\"entity\" style=\"background: #ddd; padding: 0.45em 0.6em; margin: 0 0.25em; line-height: 1; border-radius: 0.35em;\">\n",
       "    23.00\n",
       "    <span style=\"font-size: 0.8em; font-weight: bold; line-height: 1; border-radius: 0.35em; vertical-align: middle; margin-left: 0.5rem\">RECEIPT_ITEM_PRICE</span>\n",
       "</mark>\n",
       " 1<br><br>\n",
       "<mark class=\"entity\" style=\"background: #ddd; padding: 0.45em 0.6em; margin: 0 0.25em; line-height: 1; border-radius: 0.35em;\">\n",
       "    1\n",
       "    <span style=\"font-size: 0.8em; font-weight: bold; line-height: 1; border-radius: 0.35em; vertical-align: middle; margin-left: 0.5rem\">RECEIPT_ITEM_QUANTITY</span>\n",
       "</mark>\n",
       " \n",
       "<mark class=\"entity\" style=\"background: #ddd; padding: 0.45em 0.6em; margin: 0 0.25em; line-height: 1; border-radius: 0.35em;\">\n",
       "    F1. Cola Zero\n",
       "    <span style=\"font-size: 0.8em; font-weight: bold; line-height: 1; border-radius: 0.35em; vertical-align: middle; margin-left: 0.5rem\">RECEIPT_ITEM_NAME</span>\n",
       "</mark>\n",
       " 5,.00 1<br><br>\n",
       "<mark class=\"entity\" style=\"background: #ddd; padding: 0.45em 0.6em; margin: 0 0.25em; line-height: 1; border-radius: 0.35em;\">\n",
       "    1\n",
       "    <span style=\"font-size: 0.8em; font-weight: bold; line-height: 1; border-radius: 0.35em; vertical-align: middle; margin-left: 0.5rem\">RECEIPT_ITEM_QUANTITY</span>\n",
       "</mark>\n",
       " \n",
       "<mark class=\"entity\" style=\"background: #ddd; padding: 0.45em 0.6em; margin: 0 0.25em; line-height: 1; border-radius: 0.35em;\">\n",
       "    F1. Coca Cola\n",
       "    <span style=\"font-size: 0.8em; font-weight: bold; line-height: 1; border-radius: 0.35em; vertical-align: middle; margin-left: 0.5rem\">RECEIPT_ITEM_NAME</span>\n",
       "</mark>\n",
       " 5,.00 1<br><br>‚ 1 d. rotvp1n empfeh1ung \n",
       "<mark class=\"entity\" style=\"background: #ddd; padding: 0.45em 0.6em; margin: 0 0.25em; line-height: 1; border-radius: 0.35em;\">\n",
       "    8.60\n",
       "    <span style=\"font-size: 0.8em; font-weight: bold; line-height: 1; border-radius: 0.35em; vertical-align: middle; margin-left: 0.5rem\">RECEIPT_ITEM_PRICE</span>\n",
       "</mark>\n",
       " 1<br>HM Euro 59,62<br><br>Mehrwertsteuer:<br><br>MW Satz Brutto Steuer<br>1 7.7 X 62.560 4 50<br><br>ar 626<br><br>u 04 D W H BA e“ a D dn U vAn<br>— r —. x banl RS M a a r E Ba D M 9 a w nn N n mM Or D<br><br>Es bed1eniu Sie Mario falore<br><br>Solange Kakaoalınen an Bäumen wach<br>1s€ Schokolade für mich-Obs<br><br></div>\n",
       "</figure>\n",
       "</body>\n",
       "</html></span>"
      ],
      "text/plain": [
       "<IPython.core.display.HTML object>"
      ]
     },
     "metadata": {},
     "output_type": "display_data"
    },
    {
     "name": "stdout",
     "output_type": "stream",
     "text": [
      "\n",
      "Using the 'ent' visualizer\n",
      "Serving on http://0.0.0.0:5001 ...\n",
      "\n"
     ]
    },
    {
     "name": "stderr",
     "output_type": "stream",
     "text": [
      "127.0.0.1 - - [14/Jan/2025 19:33:17] \"GET / HTTP/1.1\" 200 4297\n",
      "127.0.0.1 - - [14/Jan/2025 19:33:17] \"GET /favicon.ico HTTP/1.1\" 200 4297\n"
     ]
    },
    {
     "name": "stdout",
     "output_type": "stream",
     "text": [
      "Shutting down server on port 5001.\n"
     ]
    }
   ],
   "source": [
    "doc = nlp(test[2][0])\n",
    "\n",
    "displacy.serve(doc, style=\"ent\", port=5001)"
   ]
  }
 ],
 "metadata": {
  "kernelspec": {
   "display_name": "dspro",
   "language": "python",
   "name": "python3"
  },
  "language_info": {
   "codemirror_mode": {
    "name": "ipython",
    "version": 3
   },
   "file_extension": ".py",
   "mimetype": "text/x-python",
   "name": "python",
   "nbconvert_exporter": "python",
   "pygments_lexer": "ipython3",
   "version": "3.10.16"
  }
 },
 "nbformat": 4,
 "nbformat_minor": 2
}
