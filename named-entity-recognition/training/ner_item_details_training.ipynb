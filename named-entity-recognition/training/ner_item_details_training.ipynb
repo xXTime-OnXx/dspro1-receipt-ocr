{
 "cells": [
  {
   "cell_type": "markdown",
   "metadata": {},
   "source": [
    "## Imports"
   ]
  },
  {
   "cell_type": "code",
   "execution_count": 1,
   "metadata": {},
   "outputs": [],
   "source": [
    "import os\n",
    "\n",
    "import spacy\n",
    "from spacy import displacy\n",
    "\n",
    "import random\n",
    "import json\n",
    "import numpy as np\n",
    "import matplotlib.pyplot as plt\n",
    "import seaborn as sns\n",
    "\n",
    "from sklearn.model_selection import train_test_split\n",
    "from spacy.training.example import Example"
   ]
  },
  {
   "cell_type": "code",
   "execution_count": 2,
   "metadata": {},
   "outputs": [],
   "source": [
    "TRAIN_DATA_PATH = os.path.abspath(\"../../data/datasets/ner-swiss-receipts-train.json\")  # Path to your training data file\n",
    "TEST_DATA_PATH = os.path.abspath(\"../../data/datasets/ner-swiss-receipts-test.json\")  # Path to your training data file\n",
    "\n",
    "OUTPUT_DIR = os.path.abspath(\"../models/receipt-item-details-ner-v01\")  # TODO: make sure to use a new version\n",
    "ITERATIONS = 30  # Number of training iterations\n",
    "BATCH_SIZE = 8  # Batch size for training\n",
    "DROPOUT = 0.5  # Dropout rate"
   ]
  },
  {
   "cell_type": "markdown",
   "metadata": {},
   "source": [
    "## Preprocessing"
   ]
  },
  {
   "cell_type": "markdown",
   "metadata": {},
   "source": [
    "### Load Dataset"
   ]
  },
  {
   "cell_type": "code",
   "execution_count": 3,
   "metadata": {},
   "outputs": [],
   "source": [
    "with open(TRAIN_DATA_PATH, \"r\", encoding=\"utf-8\") as file:\n",
    "    dataset = json.load(file)"
   ]
  },
  {
   "cell_type": "markdown",
   "metadata": {},
   "source": [
    "### Reformat for Spacy & Remove unwanted Entities"
   ]
  },
  {
   "cell_type": "code",
   "execution_count": 4,
   "metadata": {},
   "outputs": [],
   "source": [
    "train_data = []\n",
    "for entry in dataset:\n",
    "    text = entry[\"text\"]\n",
    "    entities = [entity for entity in entry[\"entities\"] if entity[2] != 'RECEIPT_ITEM']\n",
    "    train_data.append((text, {\"entities\": entities}))"
   ]
  },
  {
   "cell_type": "code",
   "execution_count": 5,
   "metadata": {},
   "outputs": [
    {
     "name": "stdout",
     "output_type": "stream",
     "text": [
      "Sample Training Data:\n",
      "-----------------------------------------\n",
      "HAMNUGLU GmbH\n",
      "HERTENSTEIN\n",
      "\n",
      "Hertensteinstrasse 32\n",
      "\n",
      "6004 Luzern\n",
      "\n",
      "Tel 041 419 71 51\n",
      "RER\n",
      "\n",
      "#CS0 Rechnungsnummer: 36 POSEJ Order: el\n",
      "KASSE 32- 2071272024 14:23:55\n",
      "\n",
      "ANZ ARTIKEL GESAMT \"\n",
      "1MeChicken 6.90 M\n",
      "ı MM 9 McNuggets f 15.800. Ep\n",
      "19 Nucpets 2\n",
      "1 Cocktail Sauce\n",
      "\n",
      ". 1 Potatoes Sauce\n",
      "1 Hen ohne Ksäure 0.5 2\n",
      "1 Medium Pommes Frite ed\n",
      "1 Cocktail Sauce en\n",
      "\n",
      "Subtotal 2.10 u\n",
      "Discount: i -1.30 Be\n",
      "INNEN TOTAL 21.40 wo\n",
      "VISA 210 0\n",
      "\n",
      "st.Nr. CHE - 449.055.085 MWST ] 0\n",
      "SATZ BRUTTO MWST.\n",
      "incl. MWST  8.10 21.40 1.60\n",
      "\n",
      " Kundenbeleg\n",
      "\n",
      "Buchung\n",
      ". Visa payWave contact less\n",
      "\n",
      "4323 22XX XXXX 1361\n",
      "\n",
      "20.12.2024 14:23:41\n",
      "u Trm-Id: 10138349\n",
      "AID: 40000000031010\n",
      "Irx. Seg-Cnt: Mo\n",
      "\n",
      "..... Trx. Ref-No: .\n",
      "\n",
      "Auth, Code:\n",
      "\n",
      "-----------------------------------------\n",
      "Entity-Type: RECEIPT_ITEM_QUANTITY, Entity text: 1\n",
      "Entity-Type: RECEIPT_ITEM_NAME, Entity text: MeChicken\n",
      "Entity-Type: RECEIPT_ITEM_PRICE, Entity text: 6.90\n",
      "Entity-Type: RECEIPT_ITEM_NAME, Entity text: 9 McNuggets\n",
      "Entity-Type: RECEIPT_ITEM_PRICE, Entity text: 15.80\n"
     ]
    }
   ],
   "source": [
    "print(\"Sample Training Data:\")\n",
    "sample_text, sample_annotaiton = train_data[0]\n",
    "print(\"-----------------------------------------\")\n",
    "print(sample_text)\n",
    "print(\"-----------------------------------------\")\n",
    "for ent in sample_annotaiton.get(\"entities\"):\n",
    "    print(f'Entity-Type: {ent[2]}, Entity text: {sample_text[ent[0]:ent[1]]}')"
   ]
  },
  {
   "cell_type": "markdown",
   "metadata": {},
   "source": [
    "## Model Definition"
   ]
  },
  {
   "cell_type": "markdown",
   "metadata": {},
   "source": [
    "Load an emtpy spacy model for specific language"
   ]
  },
  {
   "cell_type": "code",
   "execution_count": 6,
   "metadata": {},
   "outputs": [],
   "source": [
    "# For a blank model, or replace with spacy.load(\"en_core_web_sm\")\n",
    "nlp = spacy.blank(\"de\")"
   ]
  },
  {
   "cell_type": "markdown",
   "metadata": {},
   "source": [
    "### Add Named-Entity Recognition Component"
   ]
  },
  {
   "cell_type": "code",
   "execution_count": 7,
   "metadata": {},
   "outputs": [],
   "source": [
    "if \"ner\" not in nlp.pipe_names:\n",
    "    ner = nlp.add_pipe(\"ner\", last=True)\n",
    "else:\n",
    "    ner = nlp.get_pipe(\"ner\")"
   ]
  },
  {
   "cell_type": "markdown",
   "metadata": {},
   "source": [
    "### Add Labels to Model"
   ]
  },
  {
   "cell_type": "code",
   "execution_count": 8,
   "metadata": {},
   "outputs": [],
   "source": [
    "for _, annotations in train_data:\n",
    "    for ent in annotations.get(\"entities\"):\n",
    "        ner.add_label(ent[2])"
   ]
  },
  {
   "cell_type": "markdown",
   "metadata": {},
   "source": [
    "### Spacy Examples"
   ]
  },
  {
   "cell_type": "code",
   "execution_count": 9,
   "metadata": {},
   "outputs": [
    {
     "name": "stdout",
     "output_type": "stream",
     "text": [
      "!!ERROR!![E103] Trying to set conflicting doc.ents: '(286, 287, 'RECEIPT_ITEM_QUANTITY')' and '(286, 290, 'RECEIPT_ITEM_PRICE')'. A token can only be part of one entity, so make sure the entities you're setting don't overlap. To work with overlapping entities, consider using doc.spans instead.\n",
      "!!ERROR!![E103] Trying to set conflicting doc.ents: '(254, 255, 'RECEIPT_ITEM_QUANTITY')' and '(254, 258, 'RECEIPT_ITEM_PRICE')'. A token can only be part of one entity, so make sure the entities you're setting don't overlap. To work with overlapping entities, consider using doc.spans instead.\n"
     ]
    },
    {
     "name": "stderr",
     "output_type": "stream",
     "text": [
      "/Users/timon/.pyenv/versions/3.10.16/envs/dspro/lib/python3.10/site-packages/spacy/training/iob_utils.py:149: UserWarning: [W030] Some entities could not be aligned in the text \"HAMNUGLU GmbH\n",
      "HERTENSTEIN\n",
      "\n",
      "Hertensteinstrasse 32\n",
      "\n",
      "...\" with entities \"[[179, 180, 'RECEIPT_ITEM_QUANTITY'], [180, 189, '...\". Use `spacy.training.offsets_to_biluo_tags(nlp.make_doc(text), entities)` to check the alignment. Misaligned entities ('-') will be ignored during training.\n",
      "  warnings.warn(\n",
      "/Users/timon/.pyenv/versions/3.10.16/envs/dspro/lib/python3.10/site-packages/spacy/training/iob_utils.py:149: UserWarning: [W030] Some entities could not be aligned in the text \"Belvedere\n",
      "\n",
      "— Seerestaurant ———-\n",
      "\n",
      "Rechnung 54777 21...\" with entities \"[[85, 86, 'RECEIPT_ITEM_QUANTITY'], [87, 96, 'RECE...\". Use `spacy.training.offsets_to_biluo_tags(nlp.make_doc(text), entities)` to check the alignment. Misaligned entities ('-') will be ignored during training.\n",
      "  warnings.warn(\n",
      "/Users/timon/.pyenv/versions/3.10.16/envs/dspro/lib/python3.10/site-packages/spacy/training/iob_utils.py:149: UserWarning: [W030] Some entities could not be aligned in the text \"DENNER\n",
      "\n",
      "PARTNER\n",
      "\n",
      "Kriens Übernauerstrasse\n",
      "Obernauer...\" with entities \"[[153, 154, 'RECEIPT_ITEM_QUANTITY'], [124, 151, '...\". Use `spacy.training.offsets_to_biluo_tags(nlp.make_doc(text), entities)` to check the alignment. Misaligned entities ('-') will be ignored during training.\n",
      "  warnings.warn(\n",
      "/Users/timon/.pyenv/versions/3.10.16/envs/dspro/lib/python3.10/site-packages/spacy/training/iob_utils.py:149: UserWarning: [W030] Some entities could not be aligned in the text \"‘ BO ie El Sternen AG Willisau\n",
      "21 Bruno Ursula Ach...\" with entities \"[[231, 248, 'RECEIPT_ITEM_NAME'], [254, 258, 'RECE...\". Use `spacy.training.offsets_to_biluo_tags(nlp.make_doc(text), entities)` to check the alignment. Misaligned entities ('-') will be ignored during training.\n",
      "  warnings.warn(\n",
      "/Users/timon/.pyenv/versions/3.10.16/envs/dspro/lib/python3.10/site-packages/spacy/training/iob_utils.py:149: UserWarning: [W030] Some entities could not be aligned in the text \"jez MIGROL\n",
      "\n",
      "MIGROL Service Roos AG\n",
      "Migro] Service\n",
      "...\" with entities \"[[176, 190, 'RECEIPT_ITEM_NAME'], [194, 199, 'RECE...\". Use `spacy.training.offsets_to_biluo_tags(nlp.make_doc(text), entities)` to check the alignment. Misaligned entities ('-') will be ignored during training.\n",
      "  warnings.warn(\n",
      "/Users/timon/.pyenv/versions/3.10.16/envs/dspro/lib/python3.10/site-packages/spacy/training/iob_utils.py:149: UserWarning: [W030] Some entities could not be aligned in the text \"Restaurant - Pizzeria\n",
      "Panorama\n",
      "Rüeggisingerstrasse...\" with entities \"[[177, 178, 'RECEIPT_ITEM_QUANTITY'], [179, 185, '...\". Use `spacy.training.offsets_to_biluo_tags(nlp.make_doc(text), entities)` to check the alignment. Misaligned entities ('-') will be ignored during training.\n",
      "  warnings.warn(\n",
      "/Users/timon/.pyenv/versions/3.10.16/envs/dspro/lib/python3.10/site-packages/spacy/training/iob_utils.py:149: UserWarning: [W030] Some entities could not be aligned in the text \"Alpwirtschaft\n",
      "57\" Unterlauelen.ch\n",
      "\n",
      "a Fed Fe\n",
      "\n",
      "NATIR...\" with entities \"[[261, 262, 'RECEIPT_ITEM_QUANTITY'], [263, 280, '...\". Use `spacy.training.offsets_to_biluo_tags(nlp.make_doc(text), entities)` to check the alignment. Misaligned entities ('-') will be ignored during training.\n",
      "  warnings.warn(\n",
      "/Users/timon/.pyenv/versions/3.10.16/envs/dspro/lib/python3.10/site-packages/spacy/training/iob_utils.py:149: UserWarning: [W030] Some entities could not be aligned in the text \"GLOBUS\n",
      "\n",
      "Magazine zum Globus AG\n",
      "Pilatusstrasse 4, 6...\" with entities \"[[177, 193, 'RECEIPT_ITEM_NAME'], [195, 200, 'RECE...\". Use `spacy.training.offsets_to_biluo_tags(nlp.make_doc(text), entities)` to check the alignment. Misaligned entities ('-') will be ignored during training.\n",
      "  warnings.warn(\n",
      "/Users/timon/.pyenv/versions/3.10.16/envs/dspro/lib/python3.10/site-packages/spacy/training/iob_utils.py:149: UserWarning: [W030] Some entities could not be aligned in the text \"mi rolino idee MIGROL\n",
      "\n",
      "Migrol Service\n",
      "Überriauerst...\" with entities \"[[255, 270, 'RECEIPT_ITEM_NAME'], [276, 280, 'RECE...\". Use `spacy.training.offsets_to_biluo_tags(nlp.make_doc(text), entities)` to check the alignment. Misaligned entities ('-') will be ignored during training.\n",
      "  warnings.warn(\n",
      "/Users/timon/.pyenv/versions/3.10.16/envs/dspro/lib/python3.10/site-packages/spacy/training/iob_utils.py:149: UserWarning: [W030] Some entities could not be aligned in the text \"Strickerstrasse 3\n",
      "\n",
      "CH 8400 Winterthur\n",
      "\n",
      "Rechnung\n",
      "\n",
      "T...\" with entities \"[[148, 150, 'RECEIPT_ITEM_QUANTITY'], [151, 165, '...\". Use `spacy.training.offsets_to_biluo_tags(nlp.make_doc(text), entities)` to check the alignment. Misaligned entities ('-') will be ignored during training.\n",
      "  warnings.warn(\n",
      "/Users/timon/.pyenv/versions/3.10.16/envs/dspro/lib/python3.10/site-packages/spacy/training/iob_utils.py:149: UserWarning: [W030] Some entities could not be aligned in the text \"an,\n",
      "\n",
      "Hormatt\n",
      "RISTORANTE PIZZERIA\n",
      "\n",
      "Hofmattweg 6 CH-...\" with entities \"[[213, 214, 'RECEIPT_ITEM_QUANTITY'], [215, 221, '...\". Use `spacy.training.offsets_to_biluo_tags(nlp.make_doc(text), entities)` to check the alignment. Misaligned entities ('-') will be ignored during training.\n",
      "  warnings.warn(\n",
      "/Users/timon/.pyenv/versions/3.10.16/envs/dspro/lib/python3.10/site-packages/spacy/training/iob_utils.py:149: UserWarning: [W030] Some entities could not be aligned in the text \"Qlun‘l Y\n",
      "‘ £y , L\"“H\n",
      "\n",
      "[Ail f Ur ”\"3h’ﬁf ,\n",
      "“ 1 ‚ 44...\" with entities \"[[284, 285, 'RECEIPT_ITEM_QUANTITY'], [286, 307, '...\". Use `spacy.training.offsets_to_biluo_tags(nlp.make_doc(text), entities)` to check the alignment. Misaligned entities ('-') will be ignored during training.\n",
      "  warnings.warn(\n",
      "/Users/timon/.pyenv/versions/3.10.16/envs/dspro/lib/python3.10/site-packages/spacy/training/iob_utils.py:149: UserWarning: [W030] Some entities could not be aligned in the text \"PULLSBEAR\n",
      "\n",
      "CHE-100.642.31i TVA\n",
      "ITX Retail Suisse S...\" with entities \"[[245, 252, 'RECEIPT_ITEM_NAME'], [214, 219, 'RECE...\". Use `spacy.training.offsets_to_biluo_tags(nlp.make_doc(text), entities)` to check the alignment. Misaligned entities ('-') will be ignored during training.\n",
      "  warnings.warn(\n",
      "/Users/timon/.pyenv/versions/3.10.16/envs/dspro/lib/python3.10/site-packages/spacy/training/iob_utils.py:149: UserWarning: [W030] Some entities could not be aligned in the text \".H[\n",
      "\n",
      ";gin X \"3'5‘.u ;sä«; \"Wt ila ßl'u£é\"\n",
      "\n",
      "w f£W“ ...\" with entities \"[[246, 247, 'RECEIPT_ITEM_QUANTITY'], [248, 260, '...\". Use `spacy.training.offsets_to_biluo_tags(nlp.make_doc(text), entities)` to check the alignment. Misaligned entities ('-') will be ignored during training.\n",
      "  warnings.warn(\n",
      "/Users/timon/.pyenv/versions/3.10.16/envs/dspro/lib/python3.10/site-packages/spacy/training/iob_utils.py:149: UserWarning: [W030] Some entities could not be aligned in the text \"AUS\n",
      "FREUDE\n",
      "AM\n",
      "GESCHMACK\n",
      "\n",
      "Macchi AG Bäckerei\n",
      "Überna...\" with entities \"[[213, 214, 'RECEIPT_ITEM_QUANTITY'], [215, 221, '...\". Use `spacy.training.offsets_to_biluo_tags(nlp.make_doc(text), entities)` to check the alignment. Misaligned entities ('-') will be ignored during training.\n",
      "  warnings.warn(\n",
      "/Users/timon/.pyenv/versions/3.10.16/envs/dspro/lib/python3.10/site-packages/spacy/training/iob_utils.py:149: UserWarning: [W030] Some entities could not be aligned in the text \"WEISSES REUZ\n",
      "\n",
      "SCHWARZENBERG\n",
      "\n",
      "Bettina £ Roman Bachm...\" with entities \"[[205, 222, 'RECEIPT_ITEM_NAME'], [229, 234, 'RECE...\". Use `spacy.training.offsets_to_biluo_tags(nlp.make_doc(text), entities)` to check the alignment. Misaligned entities ('-') will be ignored during training.\n",
      "  warnings.warn(\n"
     ]
    }
   ],
   "source": [
    "examples = []\n",
    "\n",
    "for text, annotations in train_data:\n",
    "    try:\n",
    "        examples.append(Example.from_dict(nlp.make_doc(text), annotations))\n",
    "    except Exception as e:\n",
    "        print('!!ERROR!!' + str(e))\n",
    "        continue"
   ]
  },
  {
   "cell_type": "markdown",
   "metadata": {},
   "source": [
    "### Training"
   ]
  },
  {
   "cell_type": "code",
   "execution_count": 10,
   "metadata": {},
   "outputs": [
    {
     "name": "stdout",
     "output_type": "stream",
     "text": [
      "Starting training...\n",
      "Epoch 1/30, Loss: 7072.8521\n",
      "Epoch 2/30, Loss: 2354.8713\n",
      "Epoch 3/30, Loss: 1703.9056\n",
      "Epoch 4/30, Loss: 1612.2820\n",
      "Epoch 5/30, Loss: 1480.2219\n",
      "Epoch 6/30, Loss: 1346.2645\n",
      "Epoch 7/30, Loss: 1266.8635\n",
      "Epoch 8/30, Loss: 1124.0197\n",
      "Epoch 9/30, Loss: 1046.1372\n",
      "Epoch 10/30, Loss: 1051.7067\n",
      "Epoch 11/30, Loss: 980.2461\n",
      "Epoch 12/30, Loss: 867.5386\n",
      "Epoch 13/30, Loss: 892.3243\n",
      "Epoch 14/30, Loss: 820.1414\n",
      "Epoch 15/30, Loss: 766.0367\n",
      "Epoch 16/30, Loss: 773.3663\n",
      "Epoch 17/30, Loss: 690.4933\n",
      "Epoch 18/30, Loss: 673.3093\n",
      "Epoch 19/30, Loss: 625.8666\n",
      "Epoch 20/30, Loss: 560.8406\n",
      "Epoch 21/30, Loss: 531.8400\n",
      "Epoch 22/30, Loss: 508.6844\n",
      "Epoch 23/30, Loss: 488.6778\n",
      "Epoch 24/30, Loss: 483.6571\n",
      "Epoch 25/30, Loss: 436.5814\n",
      "Epoch 26/30, Loss: 425.1562\n",
      "Epoch 27/30, Loss: 390.0970\n",
      "Epoch 28/30, Loss: 372.4345\n",
      "Epoch 29/30, Loss: 374.9224\n",
      "Epoch 30/30, Loss: 364.1654\n"
     ]
    }
   ],
   "source": [
    "# Disable other pipes during training for efficiency\n",
    "other_pipes = [pipe for pipe in nlp.pipe_names if pipe != \"ner\"]\n",
    "with nlp.disable_pipes(*other_pipes):\n",
    "    optimizer = nlp.begin_training()\n",
    "        \n",
    "    # Training loop\n",
    "    print(\"Starting training...\")\n",
    "    for epoch in range(ITERATIONS):\n",
    "        random.shuffle(examples)\n",
    "        losses = {}\n",
    "        for batch in spacy.util.minibatch(examples, size=BATCH_SIZE):\n",
    "            nlp.update(batch, drop=DROPOUT, losses=losses)\n",
    "        print(f\"Epoch {epoch + 1}/{ITERATIONS}, Loss: {losses['ner']:.4f}\")"
   ]
  },
  {
   "cell_type": "markdown",
   "metadata": {},
   "source": [
    "### Save Model"
   ]
  },
  {
   "cell_type": "code",
   "execution_count": 11,
   "metadata": {},
   "outputs": [
    {
     "name": "stdout",
     "output_type": "stream",
     "text": [
      "Saving model to /Users/timon/git/dspro1-receipt-ocr/named-entity-recognition/models/receipt-item-details-ner-v01...\n"
     ]
    }
   ],
   "source": [
    "# Save the trained model\n",
    "print(f\"Saving model to {OUTPUT_DIR}...\")\n",
    "nlp.to_disk(OUTPUT_DIR)"
   ]
  },
  {
   "cell_type": "markdown",
   "metadata": {},
   "source": [
    "## Evaluation"
   ]
  },
  {
   "cell_type": "code",
   "execution_count": 12,
   "metadata": {},
   "outputs": [],
   "source": [
    "with open(TEST_DATA_PATH, \"r\", encoding=\"utf-8\") as file:\n",
    "    dataset = json.load(file)"
   ]
  },
  {
   "cell_type": "code",
   "execution_count": 13,
   "metadata": {},
   "outputs": [],
   "source": [
    "test_data = []\n",
    "for entry in dataset:\n",
    "    text = entry[\"text\"]\n",
    "    entities = [entity for entity in entry[\"entities\"] if entity[2] != 'RECEIPT_ITEM']\n",
    "    test_data.append((text, {\"entities\": entities}))"
   ]
  },
  {
   "cell_type": "code",
   "execution_count": 14,
   "metadata": {},
   "outputs": [],
   "source": [
    "def print_confusion_matrix(matrix, labels):\n",
    "    \"\"\"\n",
    "    Prints a confusion matrix as a formatted string.\n",
    "\n",
    "    Args:\n",
    "        matrix (list of list of int): Confusion matrix as a 2D list.\n",
    "        labels (list of str): Labels for the matrix.\n",
    "    \"\"\"\n",
    "    max_label_length = max(len(label) for label in labels)\n",
    "    padding = max_label_length + 2\n",
    "\n",
    "    # Print header\n",
    "    header = \" \" * padding + \" \".join(f\"{label:>{padding}}\" for label in labels)\n",
    "    print(f'{\"\":<15} Predicted Values')\n",
    "    print(header)\n",
    "\n",
    "    # Print each row\n",
    "    for label, row in zip(labels, matrix):\n",
    "        row_str = \" \".join(f\"{cell:>{padding}}\" for cell in row)\n",
    "        print(f\"{label:>{padding}} {row_str}\")"
   ]
  },
  {
   "cell_type": "code",
   "execution_count": 15,
   "metadata": {},
   "outputs": [
    {
     "name": "stdout",
     "output_type": "stream",
     "text": [
      "Confusion Matrix:\n",
      "                Predicted Values\n",
      "                Entity   No Entity\n",
      "     Entity         138          50\n",
      "  No Entity          45           0\n",
      "\n",
      "Performance Measures:\n",
      "Precision: 0.7540983606557377\n",
      "Recall: 0.7340425531914894\n",
      "F1 Score: 0.7439353099730458\n"
     ]
    }
   ],
   "source": [
    "true_positive = []\n",
    "false_positive = []\n",
    "false_negative = []\n",
    "\n",
    "index = 0\n",
    "\n",
    "for text, annotations in test_data:\n",
    "    # Process the text\n",
    "    doc = nlp(text)\n",
    "    \n",
    "    # Prepare expected values (y)\n",
    "    expected_entities = []\n",
    "    for ent in annotations.get(\"entities\"):    \n",
    "        if ent[2] != 'RECEIPT_ITEM':\n",
    "            expected_entities.append(text[ent[0]:ent[1]])\n",
    "\n",
    "    # Print recognized entities\n",
    "    for ent in doc.ents:\n",
    "        if ent.text in expected_entities:\n",
    "            true_positive.append(ent.text)\n",
    "            expected_entities.remove(ent.text)\n",
    "        else:\n",
    "            false_positive.append(ent.text)\n",
    "            \n",
    "    false_negative.extend(expected_entities)\n",
    "    \n",
    "# Example usage\n",
    "labels = [\"Entity\", \"No Entity\"]\n",
    "confusion_matrix = [\n",
    "    [len(true_positive), len(false_negative)],\n",
    "    [len(false_positive), 0],\n",
    "]\n",
    "\n",
    "print('Confusion Matrix:')\n",
    "print_confusion_matrix(confusion_matrix, labels)\n",
    "\n",
    "print('\\nPerformance Measures:')\n",
    "precision = len(true_positive) / (len(true_positive) + len(false_positive))\n",
    "recall = len(true_positive) / (len(true_positive) + len(false_negative))\n",
    "f1_score = 2 * precision * recall / (precision + recall)\n",
    "print('Precision: ' + str(precision))\n",
    "print('Recall: ' + str(recall))\n",
    "print('F1 Score: ' + str(f1_score))\n",
    "\n",
    "# True-Positive = correct idetified entities\n",
    "# false_positive = actual entity that was not identified\n",
    "# False-negative = identified entity that is actually not a entity"
   ]
  },
  {
   "cell_type": "code",
   "execution_count": 16,
   "metadata": {},
   "outputs": [
    {
     "data": {
      "image/png": "[encoded data removed]",
      "text/plain": [
       "<Figure size 600x500 with 2 Axes>"
      ]
     },
     "metadata": {},
     "output_type": "display_data"
    }
   ],
   "source": [
    "labels = ['Positive', 'Negative']\n",
    "plt.figure(figsize=(6, 5))\n",
    "sns.heatmap(\n",
    "    confusion_matrix, \n",
    "    annot=True, \n",
    "    fmt=\"d\", \n",
    "    cmap=\"Blues\", \n",
    "    xticklabels=labels, \n",
    "    yticklabels=labels\n",
    ")\n",
    "\n",
    "# Add axis labels and title\n",
    "plt.xlabel(\"Predicted Labels\")\n",
    "plt.ylabel(\"True Labels\")\n",
    "plt.title(\"Confusion Matrix\")\n",
    "plt.show()"
   ]
  },
  {
   "cell_type": "code",
   "execution_count": 18,
   "metadata": {},
   "outputs": [
    {
     "data": {
      "text/html": [
       "<span class=\"tex2jax_ignore\"><div class=\"entities\" style=\"line-height: 2.5; direction: ltr\">Moosbacnstrasse I<br>8910 Affoltern a.A.<br>Tel 044 585 91 22<br><br>BELEG<br><br>#CSO Rechnungsnummer : 65 POSEJ Order:<br>KASSE 31- 1670472022 21:34:51<br><br>ANZ ARTIKEL TOTAL<br>\n",
       "<mark class=\"entity\" style=\"background: #ddd; padding: 0.45em 0.6em; margin: 0 0.25em; line-height: 1; border-radius: 0.35em;\">\n",
       "    1\n",
       "    <span style=\"font-size: 0.8em; font-weight: bold; line-height: 1; border-radius: 0.35em; vertical-align: middle; margin-left: 0.5rem\">RECEIPT_ITEM_QUANTITY</span>\n",
       "</mark>\n",
       " \n",
       "<mark class=\"entity\" style=\"background: #ddd; padding: 0.45em 0.6em; margin: 0 0.25em; line-height: 1; border-radius: 0.35em;\">\n",
       "    Big Mac\n",
       "    <span style=\"font-size: 0.8em; font-weight: bold; line-height: 1; border-radius: 0.35em; vertical-align: middle; margin-left: 0.5rem\">RECEIPT_ITEM_NAME</span>\n",
       "</mark>\n",
       " \n",
       "<mark class=\"entity\" style=\"background: #ddd; padding: 0.45em 0.6em; margin: 0 0.25em; line-height: 1; border-radius: 0.35em;\">\n",
       "    6.90\n",
       "    <span style=\"font-size: 0.8em; font-weight: bold; line-height: 1; border-radius: 0.35em; vertical-align: middle; margin-left: 0.5rem\">RECEIPT_ITEM_PRICE</span>\n",
       "</mark>\n",
       "<br>\n",
       "<mark class=\"entity\" style=\"background: #ddd; padding: 0.45em 0.6em; margin: 0 0.25em; line-height: 1; border-radius: 0.35em;\">\n",
       "    1\n",
       "    <span style=\"font-size: 0.8em; font-weight: bold; line-height: 1; border-radius: 0.35em; vertical-align: middle; margin-left: 0.5rem\">RECEIPT_ITEM_QUANTITY</span>\n",
       "</mark>\n",
       " \n",
       "<mark class=\"entity\" style=\"background: #ddd; padding: 0.45em 0.6em; margin: 0 0.25em; line-height: 1; border-radius: 0.35em;\">\n",
       "    Filet-0-Fish\n",
       "    <span style=\"font-size: 0.8em; font-weight: bold; line-height: 1; border-radius: 0.35em; vertical-align: middle; margin-left: 0.5rem\">RECEIPT_ITEM_NAME</span>\n",
       "</mark>\n",
       " \n",
       "<mark class=\"entity\" style=\"background: #ddd; padding: 0.45em 0.6em; margin: 0 0.25em; line-height: 1; border-radius: 0.35em;\">\n",
       "    5,90\n",
       "    <span style=\"font-size: 0.8em; font-weight: bold; line-height: 1; border-radius: 0.35em; vertical-align: middle; margin-left: 0.5rem\">RECEIPT_ITEM_PRICE</span>\n",
       "</mark>\n",
       "<br>\n",
       "<mark class=\"entity\" style=\"background: #ddd; padding: 0.45em 0.6em; margin: 0 0.25em; line-height: 1; border-radius: 0.35em;\">\n",
       "    1\n",
       "    <span style=\"font-size: 0.8em; font-weight: bold; line-height: 1; border-radius: 0.35em; vertical-align: middle; margin-left: 0.5rem\">RECEIPT_ITEM_QUANTITY</span>\n",
       "</mark>\n",
       " \n",
       "<mark class=\"entity\" style=\"background: #ddd; padding: 0.45em 0.6em; margin: 0 0.25em; line-height: 1; border-radius: 0.35em;\">\n",
       "    Medium Pommes Frites\n",
       "    <span style=\"font-size: 0.8em; font-weight: bold; line-height: 1; border-radius: 0.35em; vertical-align: middle; margin-left: 0.5rem\">RECEIPT_ITEM_NAME</span>\n",
       "</mark>\n",
       " \n",
       "<mark class=\"entity\" style=\"background: #ddd; padding: 0.45em 0.6em; margin: 0 0.25em; line-height: 1; border-radius: 0.35em;\">\n",
       "    4.50\n",
       "    <span style=\"font-size: 0.8em; font-weight: bold; line-height: 1; border-radius: 0.35em; vertical-align: middle; margin-left: 0.5rem\">RECEIPT_ITEM_PRICE</span>\n",
       "</mark>\n",
       "<br>1 Keine Sauce<br>\n",
       "<mark class=\"entity\" style=\"background: #ddd; padding: 0.45em 0.6em; margin: 0 0.25em; line-height: 1; border-radius: 0.35em;\">\n",
       "    1\n",
       "    <span style=\"font-size: 0.8em; font-weight: bold; line-height: 1; border-radius: 0.35em; vertical-align: middle; margin-left: 0.5rem\">RECEIPT_ITEM_QUANTITY</span>\n",
       "</mark>\n",
       " \n",
       "<mark class=\"entity\" style=\"background: #ddd; padding: 0.45em 0.6em; margin: 0 0.25em; line-height: 1; border-radius: 0.35em;\">\n",
       "    Coca-Cola 0.4L\n",
       "    <span style=\"font-size: 0.8em; font-weight: bold; line-height: 1; border-radius: 0.35em; vertical-align: middle; margin-left: 0.5rem\">RECEIPT_ITEM_NAME</span>\n",
       "</mark>\n",
       " \n",
       "<mark class=\"entity\" style=\"background: #ddd; padding: 0.45em 0.6em; margin: 0 0.25em; line-height: 1; border-radius: 0.35em;\">\n",
       "    3,50\n",
       "    <span style=\"font-size: 0.8em; font-weight: bold; line-height: 1; border-radius: 0.35em; vertical-align: middle; margin-left: 0.5rem\">RECEIPT_ITEM_PRICE</span>\n",
       "</mark>\n",
       "<br><br>INNEN TOTAL 20.80<br>Mastercard 20.80<br><br>Sst.Nr. CHE -449.055.085 MWST<br>SAT, BRUTTO MWST<br>sick, MwSt  1.70R 20.00 \n",
       "<mark class=\"entity\" style=\"background: #ddd; padding: 0.45em 0.6em; margin: 0 0.25em; line-height: 1; border-radius: 0.35em;\">\n",
       "    1.49\n",
       "    <span style=\"font-size: 0.8em; font-weight: bold; line-height: 1; border-radius: 0.35em; vertical-align: middle; margin-left: 0.5rem\">RECEIPT_ITEM_PRICE</span>\n",
       "</mark>\n",
       "<br> KUNDENBELEG #<br><br>BUCHUNG<br><br>MC payPass<br>ktlos<br><br>ON<br>KÄKKKKKKKXKRXIOT<br><br>16.04.2022 21:34: 10<br>Irm-Id; 101200994<br><br></div></span>"
      ],
      "text/plain": [
       "<IPython.core.display.HTML object>"
      ]
     },
     "metadata": {},
     "output_type": "display_data"
    }
   ],
   "source": [
    "doc = nlp(test_data[2][0])\n",
    "\n",
    "displacy.render(doc, style=\"ent\")"
   ]
  }
 ],
 "metadata": {
  "kernelspec": {
   "display_name": "dspro",
   "language": "python",
   "name": "python3"
  },
  "language_info": {
   "codemirror_mode": {
    "name": "ipython",
    "version": 3
   },
   "file_extension": ".py",
   "mimetype": "text/x-python",
   "name": "python",
   "nbconvert_exporter": "python",
   "pygments_lexer": "ipython3",
   "version": "3.10.16"
  }
 },
 "nbformat": 4,
 "nbformat_minor": 2
}
