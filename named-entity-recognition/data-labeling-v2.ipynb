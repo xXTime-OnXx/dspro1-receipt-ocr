{
 "cells": [
  {
   "cell_type": "markdown",
   "metadata": {},
   "source": [
    "# Import Packages"
   ]
  },
  {
   "cell_type": "code",
   "execution_count": 1,
   "metadata": {},
   "outputs": [],
   "source": [
    "import cv2 \n",
    "import pytesseract\n",
    "import numpy as np\n",
    "import json\n",
    "\n",
    "pytesseract.pytesseract.tesseract_cmd = r'/opt/homebrew/bin/tesseract'"
   ]
  },
  {
   "cell_type": "markdown",
   "metadata": {},
   "source": [
    "# Data Labeling"
   ]
  },
  {
   "cell_type": "code",
   "execution_count": 2,
   "metadata": {},
   "outputs": [],
   "source": [
    "path_to_images = '../data/images/receipts-switzerland/'\n",
    "image_name = 'swiss_receipt_1.jpeg'\n",
    "\n",
    "img = cv2.imread(path_to_images + image_name)"
   ]
  },
  {
   "cell_type": "markdown",
   "metadata": {},
   "source": [
    "## Image text extraction"
   ]
  },
  {
   "cell_type": "markdown",
   "metadata": {},
   "source": [
    "In order to label the image correctliy for our training with spacy, we first have to convert the image to text using a modern OCR like tesseract."
   ]
  },
  {
   "cell_type": "markdown",
   "metadata": {},
   "source": [
    "### Image Preprocessing"
   ]
  },
  {
   "cell_type": "markdown",
   "metadata": {},
   "source": [
    "To improve the text extraction we do some image preprocessing"
   ]
  },
  {
   "cell_type": "code",
   "execution_count": 3,
   "metadata": {},
   "outputs": [],
   "source": [
    "def resize(image, scale=1.5):\n",
    "    height, width = image.shape[:2]\n",
    "    new_width = int(width * scale)\n",
    "    new_height = int(height * scale)\n",
    "    resized_image = cv2.resize(image, (new_width, new_height), interpolation=cv2.INTER_LINEAR)\n",
    "    return resized_image\n",
    "\n",
    "# Image Resizing\n",
    "resized = resize(img)\n",
    "\n",
    "# Grayscale Image\n",
    "img = cv2.cvtColor(resized, cv2.COLOR_BGR2GRAY)"
   ]
  },
  {
   "cell_type": "markdown",
   "metadata": {},
   "source": [
    "### Text Extraction"
   ]
  },
  {
   "cell_type": "code",
   "execution_count": 4,
   "metadata": {},
   "outputs": [
    {
     "name": "stdout",
     "output_type": "stream",
     "text": [
      "(2fv) Die Gastronomiegruppe\n",
      "\n",
      "Hochschule Luzern\n",
      "Informatik 8 Wirtschaft\n",
      "C‘o ZFV-Unternehmungen\n",
      "Fluelastrasse 51\n",
      "8047 Zurich\n",
      "\n",
      "CHF\n",
      "Pizza Neapolitana 10.50\n",
      "Ramseier Apfelschor] 3.00\n",
      "\n",
      "Total CHF I, 00\n",
      "\n",
      "Z MASTERCARD 13,50\n",
      "\n",
      "MwSt\n",
      "\n",
      "MwSt Prozent Netto Brutto\n",
      "(1) 8.18 12,49 13.50 1.0]\n",
      "\n",
      "Profit Center: InHouse\n",
      "29.11.2024 11:36:49 #:2450 0p:568071 C56\n",
      "8002 $:568\n",
      "\n",
      "ES bediente Sie - 9€1f Check\n",
      "\n",
      "Kopie # ]\n",
      "\n",
      "CHE-105 827. 102 MWST\n",
      "Vielen Dank und auf Wiedersehen\n",
      "\n",
      "\n"
     ]
    }
   ],
   "source": [
    "image_text = pytesseract.image_to_string(img, lang='eng', config='--oem 3 -c tessedit_char_blacklist=\"!@%^&*_+=<>?/{}|\\\\~`£\"')\n",
    "\n",
    "print(image_text)"
   ]
  },
  {
   "cell_type": "markdown",
   "metadata": {},
   "source": [
    "## Entity Extraction"
   ]
  },
  {
   "cell_type": "code",
   "execution_count": 5,
   "metadata": {},
   "outputs": [
    {
     "name": "stdout",
     "output_type": "stream",
     "text": [
      "Entity: \"Pizza Neapolitana 10.50\" starts at: 128, ends at: 151\n",
      "\tName: \"Pizza Neapolitana\" starts at: 128, ends at: 145\n",
      "\tPrice: \"10.50\" starts at: 146, ends at: 151\n",
      "Entity: \"Ramseier Apfelschor] 3.00\" starts at: 152, ends at: 177\n",
      "\tName: \"Ramseier Apfelschor]\" starts at: 152, ends at: 172\n",
      "\tPrice: \"3.00\" starts at: 173, ends at: 177\n"
     ]
    }
   ],
   "source": [
    "items = [\n",
    "    {\n",
    "        'item': 'Pizza Neapolitana 10.50',\n",
    "        'quantity': None,\n",
    "        'name': 'Pizza Neapolitana',\n",
    "        'price': '10.50'\n",
    "    },\n",
    "    {\n",
    "        'item': 'Ramseier Apfelschor] 3.00',\n",
    "        'quantity': None,\n",
    "        'name': 'Ramseier Apfelschor]',\n",
    "        'price': '3.00'\n",
    "    }\n",
    "]\n",
    "\n",
    "entities = []\n",
    "for entity in items:\n",
    "    # item\n",
    "    item = entity['item']\n",
    "    item_starting_index = image_text.index(item)\n",
    "    item_end_index = item_starting_index + len(item)\n",
    "    entities.append([item_starting_index, item_end_index, \"RECEIPT_ITEM\"])\n",
    "    print(f'Item: \"{item}\" starts at: {item_starting_index}, ends at: {item_end_index}')\n",
    "    \n",
    "    # quantity\n",
    "    if entity['quantity'] is not None:\n",
    "        item_quantity = entity['quantity']\n",
    "        starting_index = item_starting_index + item.index(item_quantity)\n",
    "        end_index = starting_index + len(item_quantity)\n",
    "        entities.append([starting_index, end_index, \"RECEIPT_ITEM_QUANTITY\"])\n",
    "        print(f'\\tQuantity: \"{item_quantity}\" starts at: {starting_index}, ends at: {end_index}')\n",
    "        \n",
    "    # name\n",
    "    if entity['name'] is not None:\n",
    "        item_name = entity['name']\n",
    "        starting_index = item_starting_index + item.index(item_name)\n",
    "        end_index = starting_index + len(item_name)\n",
    "        entities.append([starting_index, end_index, \"RECEIPT_ITEM_NAME\"])\n",
    "        print(f'\\tName: \"{item_name}\" starts at: {starting_index}, ends at: {end_index}')\n",
    "        \n",
    "    # price\n",
    "    if entity['price'] is not None:\n",
    "        item_price = entity['price']\n",
    "        starting_index = image_text.index(item_price)\n",
    "        end_index = starting_index + len(item_price)\n",
    "        entities.append([starting_index, end_index, \"RECEIPT_ITEM_PRICE\"])\n",
    "        print(f'\\tPrice: \"{item_price}\" starts at: {starting_index}, ends at: {end_index}')\n",
    "    \n"
   ]
  },
  {
   "cell_type": "markdown",
   "metadata": {},
   "source": [
    "Check the output of the entity extraction and make sure everything is correct. The indexes could be wrong because of the string.index() only returns the first match."
   ]
  },
  {
   "cell_type": "code",
   "execution_count": 6,
   "metadata": {},
   "outputs": [
    {
     "data": {
      "text/plain": [
       "[[128, 151, 'RECEIPT_ITEM'],\n",
       " [128, 145, 'RECEIPT_ITEM_NAME'],\n",
       " [146, 151, 'RECEIPT_ITEM_PRICE'],\n",
       " [152, 177, 'RECEIPT_ITEM'],\n",
       " [152, 172, 'RECEIPT_ITEM_NAME'],\n",
       " [173, 177, 'RECEIPT_ITEM_PRICE']]"
      ]
     },
     "execution_count": 6,
     "metadata": {},
     "output_type": "execute_result"
    }
   ],
   "source": [
    "entities"
   ]
  },
  {
   "cell_type": "markdown",
   "metadata": {},
   "source": [
    "### (OPTIONAL) Fix if neccessary\n",
    "\n",
    "To fix the indexes copy the part from above and overwrite the entites array with the correct indicies"
   ]
  },
  {
   "cell_type": "code",
   "execution_count": 7,
   "metadata": {},
   "outputs": [],
   "source": [
    "# entities = ..."
   ]
  },
  {
   "cell_type": "markdown",
   "metadata": {},
   "source": [
    "## Save Image Reference, Extracted Text & Entities to Dataset"
   ]
  },
  {
   "cell_type": "markdown",
   "metadata": {},
   "source": [
    "Load the already existing training data. Use a separate File for different types of receipts or new labeling entities."
   ]
  },
  {
   "cell_type": "code",
   "execution_count": 9,
   "metadata": {},
   "outputs": [],
   "source": [
    "try:\n",
    "    # TODO: use different file when starting new labling session and update bottom write execution\n",
    "    file = open('../data/datasets/training_v2_test.json', 'r')\n",
    "except FileNotFoundError:\n",
    "    print('file not found')\n",
    "    data = []\n",
    "else:\n",
    "    with file:\n",
    "        data = json.load(file)"
   ]
  },
  {
   "cell_type": "code",
   "execution_count": 10,
   "metadata": {},
   "outputs": [
    {
     "data": {
      "text/plain": [
       "{'image_name': 'swiss_receipt_1.jpeg',\n",
       " 'text': '(2fv) Die Gastronomiegruppe\\n\\nHochschule Luzern\\nInformatik 8 Wirtschaft\\nC‘o ZFV-Unternehmungen\\nFluelastrasse 51\\n8047 Zurich\\n\\nCHF\\nPizza Neapolitana 10.50\\nRamseier Apfelschor] 3.00\\n\\nTotal CHF I, 00\\n\\nZ MASTERCARD 13,50\\n\\nMwSt\\n\\nMwSt Prozent Netto Brutto\\n(1) 8.18 12,49 13.50 1.0]\\n\\nProfit Center: InHouse\\n29.11.2024 11:36:49 #:2450 0p:568071 C56\\n8002 $:568\\n\\nES bediente Sie - 9€1f Check\\n\\nKopie # ]\\n\\nCHE-105 827. 102 MWST\\nVielen Dank und auf Wiedersehen\\n\\n',\n",
       " 'entities': [[128, 151, 'RECEIPT_ITEM'],\n",
       "  [128, 145, 'RECEIPT_ITEM_NAME'],\n",
       "  [146, 151, 'RECEIPT_ITEM_PRICE'],\n",
       "  [152, 177, 'RECEIPT_ITEM'],\n",
       "  [152, 172, 'RECEIPT_ITEM_NAME'],\n",
       "  [173, 177, 'RECEIPT_ITEM_PRICE']]}"
      ]
     },
     "execution_count": 10,
     "metadata": {},
     "output_type": "execute_result"
    }
   ],
   "source": [
    "new_data_entry = {\n",
    "    \"image_name\": image_name,\n",
    "    \"text\": image_text,\n",
    "    \"entities\": entities,\n",
    "}\n",
    "\n",
    "new_data_entry"
   ]
  },
  {
   "cell_type": "code",
   "execution_count": 11,
   "metadata": {},
   "outputs": [
    {
     "name": "stdout",
     "output_type": "stream",
     "text": [
      "added training data\n"
     ]
    }
   ],
   "source": [
    "data.append(new_data_entry)\n",
    "\n",
    "# convert into JSON:\n",
    "json_data = json.dumps(data)\n",
    "\n",
    "# TODO: use different file when starting new labling session and update bottom write execution\n",
    "with open(\"../data/datasets/training_v2_test.json\", \"w+\") as outfile:\n",
    "    outfile.write(json_data)\n",
    "    \n",
    "print('added training data')"
   ]
  }
 ],
 "metadata": {
  "kernelspec": {
   "display_name": "dspro",
   "language": "python",
   "name": "python3"
  },
  "language_info": {
   "codemirror_mode": {
    "name": "ipython",
    "version": 3
   },
   "file_extension": ".py",
   "mimetype": "text/x-python",
   "name": "python",
   "nbconvert_exporter": "python",
   "pygments_lexer": "ipython3",
   "version": "3.10.16"
  }
 },
 "nbformat": 4,
 "nbformat_minor": 2
}
