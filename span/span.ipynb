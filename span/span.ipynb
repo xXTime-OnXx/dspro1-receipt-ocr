{
 "cells": [
  {
   "cell_type": "code",
   "execution_count": 16,
   "metadata": {},
   "outputs": [],
   "source": [
    "import spacy\n",
    "\n",
    "from spacy import displacy\n",
    "\n",
    "# Load the trained model\n",
    "nlp = spacy.load(\"en_core_web_sm\")"
   ]
  },
  {
   "cell_type": "code",
   "execution_count": 17,
   "metadata": {},
   "outputs": [],
   "source": [
    "# Example input text\n",
    "text = \"China Restaurant Suan Long\\nBahnhofplatz 5\\n8400 Winterthur\\nTel.: 052 202 19 71\\n\\nRechnung\\n\\n16- Apr-22\\n\\nTisch-Nr: 3\\n1x Getränke Tu- 1 B 3. 50 3,50\\nIx Menü 1 B 11.00 11.00\\n1x Menü 3 B 17.00 17.00\\n\\nBon men m Er a a Te ee WE we Ma an a\\n\\nBar Total: CHF\\n# 31.50 #\\n\\nBzenthaltene HuSt. 2.5008: CHF 0.77\\n\\nME em wm em an im be vn Da WR a Che De Er NE Te ee\\n\\n31.50 CHF - CHF 31,50\\n\\nWir danken für Ihren Besuch und freuen\\nuns auf ein baldiges Wiedersehen,\\nMWST-Nr.: CHE-112.977.646\\n\\n. TEE RBAdy SE 12 (HFSZINE-SEP Dak Ya\\n#Hypersoft ‚Facnhanael Ct Aamınan\\n\\n\"\n",
    "\n",
    "# Process the text with the trained model\n",
    "doc = nlp(text)"
   ]
  },
  {
   "cell_type": "code",
   "execution_count": null,
   "metadata": {},
   "outputs": [],
   "source": [
    "# Access the predicted spans\n",
    "print(\"Predicted Spans:\")\n",
    "for span in doc.spans[\"sc\"]:  # Use the spans_key defined in your config\n",
    "    print(f\"{span.label_}: {span.text}\")"
   ]
  },
  {
   "cell_type": "code",
   "execution_count": 18,
   "metadata": {},
   "outputs": [
    {
     "name": "stderr",
     "output_type": "stream",
     "text": [
      "/Users/timon/.pyenv/versions/3.10.16/envs/dspro/lib/python3.10/site-packages/spacy/displacy/__init__.py:244: UserWarning: [W117] No spans to visualize found in Doc object with spans_key: 'sc'. If this is surprising to you, make sure the Doc was processed using a model that supports span categorization, and check the `doc.spans[spans_key]` property manually if necessary.\n",
      "\n",
      "Available keys: []\n",
      "  warnings.warn(Warnings.W117.format(spans_key=spans_key, keys=keys))\n"
     ]
    },
    {
     "data": {
      "text/html": [
       "<span class=\"tex2jax_ignore\"><!DOCTYPE html>\n",
       "<html lang=\"en\">\n",
       "    <head>\n",
       "        <title>displaCy</title>\n",
       "    </head>\n",
       "\n",
       "    <body style=\"font-size: 16px; font-family: -apple-system, BlinkMacSystemFont, 'Segoe UI', Helvetica, Arial, sans-serif, 'Apple Color Emoji', 'Segoe UI Emoji', 'Segoe UI Symbol'; padding: 4rem 2rem; direction: ltr\">\n",
       "<figure style=\"margin-bottom: 6rem\">\n",
       "<div class=\"spans\" style=\"line-height: 2.5; direction: ltr\">China Restaurant Suan Long \n",
       " Bahnhofplatz 5 \n",
       " 8400 Winterthur \n",
       " Tel . : 052 202 19 71 \n",
       "\n",
       " Rechnung \n",
       "\n",
       " 16- Apr-22 \n",
       "\n",
       " Tisch - Nr : 3 \n",
       " 1x Getränke Tu- 1 B 3 . 50 3,50 \n",
       " Ix Menü 1 B 11.00 11.00 \n",
       " 1x Menü 3 B 17.00 17.00 \n",
       "\n",
       " Bon men m Er a a Te ee WE we Ma an a \n",
       "\n",
       " Bar Total : CHF \n",
       " # 31.50 # \n",
       "\n",
       " Bzenthaltene HuSt . 2.5008 : CHF 0.77 \n",
       "\n",
       " ME em wm em an i m be vn Da WR a Che De Er NE Te ee \n",
       "\n",
       " 31.50 CHF - CHF 31,50 \n",
       "\n",
       " Wir danken für Ihren Besuch und freuen \n",
       " uns auf ein baldiges Wiedersehen , \n",
       " MWST - Nr . : CHE-112.977.646 \n",
       "\n",
       " . TEE RBAdy SE 12 ( HFSZINE - SEP Dak Ya \n",
       " # Hypersoft ‚ Facnhanael Ct Aamınan \n",
       "\n",
       " </div>\n",
       "</figure>\n",
       "</body>\n",
       "</html></span>"
      ],
      "text/plain": [
       "<IPython.core.display.HTML object>"
      ]
     },
     "metadata": {},
     "output_type": "display_data"
    },
    {
     "name": "stdout",
     "output_type": "stream",
     "text": [
      "\n",
      "Using the 'span' visualizer\n",
      "Serving on http://0.0.0.0:5001 ...\n",
      "\n"
     ]
    },
    {
     "name": "stderr",
     "output_type": "stream",
     "text": [
      "127.0.0.1 - - [06/Jan/2025 17:55:00] \"GET / HTTP/1.1\" 200 1048\n",
      "127.0.0.1 - - [06/Jan/2025 17:55:00] \"GET /favicon.ico HTTP/1.1\" 200 1048\n"
     ]
    },
    {
     "name": "stdout",
     "output_type": "stream",
     "text": [
      "Shutting down server on port 5001.\n"
     ]
    }
   ],
   "source": [
    "options = {\"colors\": {\"RECEIPT_ITEM_QUANTITY\": 'purple', \"RECEIPT_ITEM_NAME\": 'lightblue', \"RECEIPT_ITEM_PRICE\": 'orange'}}\n",
    "\n",
    "displacy.serve(doc, style=\"span\", port=5001, options=options)"
   ]
  }
 ],
 "metadata": {
  "kernelspec": {
   "display_name": "dspro",
   "language": "python",
   "name": "python3"
  },
  "language_info": {
   "codemirror_mode": {
    "name": "ipython",
    "version": 3
   },
   "file_extension": ".py",
   "mimetype": "text/x-python",
   "name": "python",
   "nbconvert_exporter": "python",
   "pygments_lexer": "ipython3",
   "version": "3.10.16"
  }
 },
 "nbformat": 4,
 "nbformat_minor": 2
}
